{
  "cells": [
    {
      "cell_type": "markdown",
      "metadata": {
        "id": "H9wADwK78DCz"
      },
      "source": [
        "# Proyek Analisis Data: [E-Commerce Public Dataset]\n",
        "- **Nama:** [Rizky Putri Pratiwi]\n",
        "- **Email:** [ryputri27@gmail.com]\n",
        "- **ID Dicoding:** [rizkyputripratiwi]"
      ]
    },
    {
      "cell_type": "markdown",
      "metadata": {
        "id": "eE0raob58DC0"
      },
      "source": [
        "## Menentukan Pertanyaan Bisnis"
      ]
    },
    {
      "cell_type": "markdown",
      "metadata": {
        "id": "GmQeQ5YF8DC0"
      },
      "source": [
        "- Pertanyaan 1 : Berapa lama waktu rata-rata pengiriman pesanan dari waktu pembelian hingga waktu pengiriman akhir kepada pelanggan? \n",
        "- Pertanyaan 2 : Apakah ada pola waktu tertentu di mana pesanan cenderung lebih banyak dilakukan?"
      ]
    },
    {
      "cell_type": "markdown",
      "metadata": {
        "id": "H-z4QGlO8DC1"
      },
      "source": [
        "## Import Semua Packages/Library yang Digunakan"
      ]
    },
    {
      "cell_type": "code",
      "execution_count": 48,
      "metadata": {},
      "outputs": [
        {
          "name": "stdout",
          "output_type": "stream",
          "text": [
            "Requirement already satisfied: numpy in c:\\anaconda\\lib\\site-packages (1.22.4)\n",
            "Requirement already satisfied: pandas in c:\\anaconda\\lib\\site-packages (2.0.3)\n",
            "Requirement already satisfied: scipy in c:\\anaconda\\lib\\site-packages (1.6.2)\n",
            "Requirement already satisfied: matplotlib in c:\\anaconda\\lib\\site-packages (3.3.4)\n",
            "Requirement already satisfied: seaborn in c:\\anaconda\\lib\\site-packages (0.11.1)\n",
            "Requirement already satisfied: pillow>=6.2.0 in c:\\anaconda\\lib\\site-packages (from matplotlib) (8.2.0)\n",
            "Requirement already satisfied: python-dateutil>=2.1 in c:\\anaconda\\lib\\site-packages (from matplotlib) (2.9.0.post0)\n",
            "Requirement already satisfied: pyparsing!=2.0.4,!=2.1.2,!=2.1.6,>=2.0.3 in c:\\anaconda\\lib\\site-packages (from matplotlib) (2.4.7)\n",
            "Requirement already satisfied: kiwisolver>=1.0.1 in c:\\anaconda\\lib\\site-packages (from matplotlib) (1.3.1)\n",
            "Requirement already satisfied: cycler>=0.10 in c:\\anaconda\\lib\\site-packages (from matplotlib) (0.10.0)\n",
            "Requirement already satisfied: six in c:\\anaconda\\lib\\site-packages (from cycler>=0.10->matplotlib) (1.15.0)\n",
            "Requirement already satisfied: tzdata>=2022.1 in c:\\anaconda\\lib\\site-packages (from pandas) (2024.1)\n",
            "Requirement already satisfied: pytz>=2020.1 in c:\\anaconda\\lib\\site-packages (from pandas) (2021.1)\n",
            "Note: you may need to restart the kernel to use updated packages.\n"
          ]
        }
      ],
      "source": [
        "pip install numpy pandas scipy matplotlib seaborn"
      ]
    },
    {
      "cell_type": "markdown",
      "metadata": {
        "id": "h_Sh51Xy8DC1"
      },
      "source": [
        "## Data Wrangling"
      ]
    },
    {
      "cell_type": "markdown",
      "metadata": {
        "id": "sXU2GBYu8DC1"
      },
      "source": [
        "### Gathering Data"
      ]
    },
    {
      "cell_type": "markdown",
      "metadata": {},
      "source": [
        "Karena ada dua pertanyaan yang saya siapkan, jadi disini saya hanya fokus menggunakan 4 dataset dari seluruh dataset yang diberikan, yakni olist_customers_dataset, olist_order_items_dataset, olist_products_dataset, dan olist_orders_dataset. Pemilihan dataset ini berguna untuk mempermudah proses analisis data dan menghemat waktu."
      ]
    },
    {
      "cell_type": "markdown",
      "metadata": {},
      "source": [
        "Langkah pertama yaitu membuat tabel customers, dimana tabel ini akan dijadikan sebuah DataFrame. Dengan menampilkan 5 baris pertama pada tabel tersebut."
      ]
    },
    {
      "cell_type": "code",
      "execution_count": 49,
      "metadata": {},
      "outputs": [
        {
          "data": {
            "text/html": [
              "<div>\n",
              "<style scoped>\n",
              "    .dataframe tbody tr th:only-of-type {\n",
              "        vertical-align: middle;\n",
              "    }\n",
              "\n",
              "    .dataframe tbody tr th {\n",
              "        vertical-align: top;\n",
              "    }\n",
              "\n",
              "    .dataframe thead th {\n",
              "        text-align: right;\n",
              "    }\n",
              "</style>\n",
              "<table border=\"1\" class=\"dataframe\">\n",
              "  <thead>\n",
              "    <tr style=\"text-align: right;\">\n",
              "      <th></th>\n",
              "      <th>customer_id</th>\n",
              "      <th>customer_unique_id</th>\n",
              "      <th>customer_zip_code_prefix</th>\n",
              "      <th>customer_city</th>\n",
              "      <th>customer_state</th>\n",
              "    </tr>\n",
              "  </thead>\n",
              "  <tbody>\n",
              "    <tr>\n",
              "      <th>0</th>\n",
              "      <td>06b8999e2fba1a1fbc88172c00ba8bc7</td>\n",
              "      <td>861eff4711a542e4b93843c6dd7febb0</td>\n",
              "      <td>14409</td>\n",
              "      <td>franca</td>\n",
              "      <td>SP</td>\n",
              "    </tr>\n",
              "    <tr>\n",
              "      <th>1</th>\n",
              "      <td>18955e83d337fd6b2def6b18a428ac77</td>\n",
              "      <td>290c77bc529b7ac935b93aa66c333dc3</td>\n",
              "      <td>9790</td>\n",
              "      <td>sao bernardo do campo</td>\n",
              "      <td>SP</td>\n",
              "    </tr>\n",
              "    <tr>\n",
              "      <th>2</th>\n",
              "      <td>4e7b3e00288586ebd08712fdd0374a03</td>\n",
              "      <td>060e732b5b29e8181a18229c7b0b2b5e</td>\n",
              "      <td>1151</td>\n",
              "      <td>sao paulo</td>\n",
              "      <td>SP</td>\n",
              "    </tr>\n",
              "    <tr>\n",
              "      <th>3</th>\n",
              "      <td>b2b6027bc5c5109e529d4dc6358b12c3</td>\n",
              "      <td>259dac757896d24d7702b9acbbff3f3c</td>\n",
              "      <td>8775</td>\n",
              "      <td>mogi das cruzes</td>\n",
              "      <td>SP</td>\n",
              "    </tr>\n",
              "    <tr>\n",
              "      <th>4</th>\n",
              "      <td>4f2d8ab171c80ec8364f7c12e35b23ad</td>\n",
              "      <td>345ecd01c38d18a9036ed96c73b8d066</td>\n",
              "      <td>13056</td>\n",
              "      <td>campinas</td>\n",
              "      <td>SP</td>\n",
              "    </tr>\n",
              "  </tbody>\n",
              "</table>\n",
              "</div>"
            ],
            "text/plain": [
              "                        customer_id                customer_unique_id  \\\n",
              "0  06b8999e2fba1a1fbc88172c00ba8bc7  861eff4711a542e4b93843c6dd7febb0   \n",
              "1  18955e83d337fd6b2def6b18a428ac77  290c77bc529b7ac935b93aa66c333dc3   \n",
              "2  4e7b3e00288586ebd08712fdd0374a03  060e732b5b29e8181a18229c7b0b2b5e   \n",
              "3  b2b6027bc5c5109e529d4dc6358b12c3  259dac757896d24d7702b9acbbff3f3c   \n",
              "4  4f2d8ab171c80ec8364f7c12e35b23ad  345ecd01c38d18a9036ed96c73b8d066   \n",
              "\n",
              "   customer_zip_code_prefix          customer_city customer_state  \n",
              "0                     14409                 franca             SP  \n",
              "1                      9790  sao bernardo do campo             SP  \n",
              "2                      1151              sao paulo             SP  \n",
              "3                      8775        mogi das cruzes             SP  \n",
              "4                     13056               campinas             SP  "
            ]
          },
          "execution_count": 49,
          "metadata": {},
          "output_type": "execute_result"
        }
      ],
      "source": [
        "import pandas as pd\n",
        "\n",
        "df_customers = pd.read_csv(\"data/olist_customers_dataset.csv\", delimiter=\",\")\n",
        "\n",
        "df_customers.head()"
      ]
    },
    {
      "cell_type": "markdown",
      "metadata": {},
      "source": [
        "Langkah kedua yaitu membuat tabel order_items, dimana tabel ini akan dijadikan sebuah DataFrame. Dengan menampilkan 5 baris pertama pada tabel tersebut."
      ]
    },
    {
      "cell_type": "code",
      "execution_count": 50,
      "metadata": {},
      "outputs": [
        {
          "data": {
            "text/html": [
              "<div>\n",
              "<style scoped>\n",
              "    .dataframe tbody tr th:only-of-type {\n",
              "        vertical-align: middle;\n",
              "    }\n",
              "\n",
              "    .dataframe tbody tr th {\n",
              "        vertical-align: top;\n",
              "    }\n",
              "\n",
              "    .dataframe thead th {\n",
              "        text-align: right;\n",
              "    }\n",
              "</style>\n",
              "<table border=\"1\" class=\"dataframe\">\n",
              "  <thead>\n",
              "    <tr style=\"text-align: right;\">\n",
              "      <th></th>\n",
              "      <th>order_id</th>\n",
              "      <th>order_item_id</th>\n",
              "      <th>product_id</th>\n",
              "      <th>seller_id</th>\n",
              "      <th>shipping_limit_date</th>\n",
              "      <th>price</th>\n",
              "      <th>freight_value</th>\n",
              "    </tr>\n",
              "  </thead>\n",
              "  <tbody>\n",
              "    <tr>\n",
              "      <th>0</th>\n",
              "      <td>00010242fe8c5a6d1ba2dd792cb16214</td>\n",
              "      <td>1</td>\n",
              "      <td>4244733e06e7ecb4970a6e2683c13e61</td>\n",
              "      <td>48436dade18ac8b2bce089ec2a041202</td>\n",
              "      <td>2017-09-19 09:45:35</td>\n",
              "      <td>58.90</td>\n",
              "      <td>13.29</td>\n",
              "    </tr>\n",
              "    <tr>\n",
              "      <th>1</th>\n",
              "      <td>00018f77f2f0320c557190d7a144bdd3</td>\n",
              "      <td>1</td>\n",
              "      <td>e5f2d52b802189ee658865ca93d83a8f</td>\n",
              "      <td>dd7ddc04e1b6c2c614352b383efe2d36</td>\n",
              "      <td>2017-05-03 11:05:13</td>\n",
              "      <td>239.90</td>\n",
              "      <td>19.93</td>\n",
              "    </tr>\n",
              "    <tr>\n",
              "      <th>2</th>\n",
              "      <td>000229ec398224ef6ca0657da4fc703e</td>\n",
              "      <td>1</td>\n",
              "      <td>c777355d18b72b67abbeef9df44fd0fd</td>\n",
              "      <td>5b51032eddd242adc84c38acab88f23d</td>\n",
              "      <td>2018-01-18 14:48:30</td>\n",
              "      <td>199.00</td>\n",
              "      <td>17.87</td>\n",
              "    </tr>\n",
              "    <tr>\n",
              "      <th>3</th>\n",
              "      <td>00024acbcdf0a6daa1e931b038114c75</td>\n",
              "      <td>1</td>\n",
              "      <td>7634da152a4610f1595efa32f14722fc</td>\n",
              "      <td>9d7a1d34a5052409006425275ba1c2b4</td>\n",
              "      <td>2018-08-15 10:10:18</td>\n",
              "      <td>12.99</td>\n",
              "      <td>12.79</td>\n",
              "    </tr>\n",
              "    <tr>\n",
              "      <th>4</th>\n",
              "      <td>00042b26cf59d7ce69dfabb4e55b4fd9</td>\n",
              "      <td>1</td>\n",
              "      <td>ac6c3623068f30de03045865e4e10089</td>\n",
              "      <td>df560393f3a51e74553ab94004ba5c87</td>\n",
              "      <td>2017-02-13 13:57:51</td>\n",
              "      <td>199.90</td>\n",
              "      <td>18.14</td>\n",
              "    </tr>\n",
              "  </tbody>\n",
              "</table>\n",
              "</div>"
            ],
            "text/plain": [
              "                           order_id  order_item_id  \\\n",
              "0  00010242fe8c5a6d1ba2dd792cb16214              1   \n",
              "1  00018f77f2f0320c557190d7a144bdd3              1   \n",
              "2  000229ec398224ef6ca0657da4fc703e              1   \n",
              "3  00024acbcdf0a6daa1e931b038114c75              1   \n",
              "4  00042b26cf59d7ce69dfabb4e55b4fd9              1   \n",
              "\n",
              "                         product_id                         seller_id  \\\n",
              "0  4244733e06e7ecb4970a6e2683c13e61  48436dade18ac8b2bce089ec2a041202   \n",
              "1  e5f2d52b802189ee658865ca93d83a8f  dd7ddc04e1b6c2c614352b383efe2d36   \n",
              "2  c777355d18b72b67abbeef9df44fd0fd  5b51032eddd242adc84c38acab88f23d   \n",
              "3  7634da152a4610f1595efa32f14722fc  9d7a1d34a5052409006425275ba1c2b4   \n",
              "4  ac6c3623068f30de03045865e4e10089  df560393f3a51e74553ab94004ba5c87   \n",
              "\n",
              "   shipping_limit_date   price  freight_value  \n",
              "0  2017-09-19 09:45:35   58.90          13.29  \n",
              "1  2017-05-03 11:05:13  239.90          19.93  \n",
              "2  2018-01-18 14:48:30  199.00          17.87  \n",
              "3  2018-08-15 10:10:18   12.99          12.79  \n",
              "4  2017-02-13 13:57:51  199.90          18.14  "
            ]
          },
          "execution_count": 50,
          "metadata": {},
          "output_type": "execute_result"
        }
      ],
      "source": [
        "import pandas as pd\n",
        "\n",
        "df_order_items = pd.read_csv(\"data/olist_order_items_dataset.csv\", delimiter=\",\")\n",
        "\n",
        "df_order_items.head()\n"
      ]
    },
    {
      "cell_type": "markdown",
      "metadata": {},
      "source": [
        "Langkah ketiga yaitu membuat tabel products, dimana tabel ini akan dijadikan sebuah DataFrame. Dengan menampilkan 5 baris pertama pada tabel tersebut."
      ]
    },
    {
      "cell_type": "code",
      "execution_count": 51,
      "metadata": {},
      "outputs": [
        {
          "data": {
            "text/html": [
              "<div>\n",
              "<style scoped>\n",
              "    .dataframe tbody tr th:only-of-type {\n",
              "        vertical-align: middle;\n",
              "    }\n",
              "\n",
              "    .dataframe tbody tr th {\n",
              "        vertical-align: top;\n",
              "    }\n",
              "\n",
              "    .dataframe thead th {\n",
              "        text-align: right;\n",
              "    }\n",
              "</style>\n",
              "<table border=\"1\" class=\"dataframe\">\n",
              "  <thead>\n",
              "    <tr style=\"text-align: right;\">\n",
              "      <th></th>\n",
              "      <th>product_id</th>\n",
              "      <th>product_category_name</th>\n",
              "      <th>product_name_lenght</th>\n",
              "      <th>product_description_lenght</th>\n",
              "      <th>product_photos_qty</th>\n",
              "      <th>product_weight_g</th>\n",
              "      <th>product_length_cm</th>\n",
              "      <th>product_height_cm</th>\n",
              "      <th>product_width_cm</th>\n",
              "    </tr>\n",
              "  </thead>\n",
              "  <tbody>\n",
              "    <tr>\n",
              "      <th>0</th>\n",
              "      <td>1e9e8ef04dbcff4541ed26657ea517e5</td>\n",
              "      <td>perfumaria</td>\n",
              "      <td>40.0</td>\n",
              "      <td>287.0</td>\n",
              "      <td>1.0</td>\n",
              "      <td>225.0</td>\n",
              "      <td>16.0</td>\n",
              "      <td>10.0</td>\n",
              "      <td>14.0</td>\n",
              "    </tr>\n",
              "    <tr>\n",
              "      <th>1</th>\n",
              "      <td>3aa071139cb16b67ca9e5dea641aaa2f</td>\n",
              "      <td>artes</td>\n",
              "      <td>44.0</td>\n",
              "      <td>276.0</td>\n",
              "      <td>1.0</td>\n",
              "      <td>1000.0</td>\n",
              "      <td>30.0</td>\n",
              "      <td>18.0</td>\n",
              "      <td>20.0</td>\n",
              "    </tr>\n",
              "    <tr>\n",
              "      <th>2</th>\n",
              "      <td>96bd76ec8810374ed1b65e291975717f</td>\n",
              "      <td>esporte_lazer</td>\n",
              "      <td>46.0</td>\n",
              "      <td>250.0</td>\n",
              "      <td>1.0</td>\n",
              "      <td>154.0</td>\n",
              "      <td>18.0</td>\n",
              "      <td>9.0</td>\n",
              "      <td>15.0</td>\n",
              "    </tr>\n",
              "    <tr>\n",
              "      <th>3</th>\n",
              "      <td>cef67bcfe19066a932b7673e239eb23d</td>\n",
              "      <td>bebes</td>\n",
              "      <td>27.0</td>\n",
              "      <td>261.0</td>\n",
              "      <td>1.0</td>\n",
              "      <td>371.0</td>\n",
              "      <td>26.0</td>\n",
              "      <td>4.0</td>\n",
              "      <td>26.0</td>\n",
              "    </tr>\n",
              "    <tr>\n",
              "      <th>4</th>\n",
              "      <td>9dc1a7de274444849c219cff195d0b71</td>\n",
              "      <td>utilidades_domesticas</td>\n",
              "      <td>37.0</td>\n",
              "      <td>402.0</td>\n",
              "      <td>4.0</td>\n",
              "      <td>625.0</td>\n",
              "      <td>20.0</td>\n",
              "      <td>17.0</td>\n",
              "      <td>13.0</td>\n",
              "    </tr>\n",
              "  </tbody>\n",
              "</table>\n",
              "</div>"
            ],
            "text/plain": [
              "                         product_id  product_category_name  \\\n",
              "0  1e9e8ef04dbcff4541ed26657ea517e5             perfumaria   \n",
              "1  3aa071139cb16b67ca9e5dea641aaa2f                  artes   \n",
              "2  96bd76ec8810374ed1b65e291975717f          esporte_lazer   \n",
              "3  cef67bcfe19066a932b7673e239eb23d                  bebes   \n",
              "4  9dc1a7de274444849c219cff195d0b71  utilidades_domesticas   \n",
              "\n",
              "   product_name_lenght  product_description_lenght  product_photos_qty  \\\n",
              "0                 40.0                       287.0                 1.0   \n",
              "1                 44.0                       276.0                 1.0   \n",
              "2                 46.0                       250.0                 1.0   \n",
              "3                 27.0                       261.0                 1.0   \n",
              "4                 37.0                       402.0                 4.0   \n",
              "\n",
              "   product_weight_g  product_length_cm  product_height_cm  product_width_cm  \n",
              "0             225.0               16.0               10.0              14.0  \n",
              "1            1000.0               30.0               18.0              20.0  \n",
              "2             154.0               18.0                9.0              15.0  \n",
              "3             371.0               26.0                4.0              26.0  \n",
              "4             625.0               20.0               17.0              13.0  "
            ]
          },
          "execution_count": 51,
          "metadata": {},
          "output_type": "execute_result"
        }
      ],
      "source": [
        "import pandas as pd\n",
        "\n",
        "df_products = pd.read_csv(\"data/olist_products_dataset.csv\", delimiter=\",\")\n",
        "\n",
        "df_products.head()"
      ]
    },
    {
      "cell_type": "markdown",
      "metadata": {},
      "source": [
        "Langkah terakhir yaitu membuat tabel orders, dimana tabel ini akan dijadikan sebuah DataFrame. Dengan menampilkan 5 baris pertama pada tabel tersebut."
      ]
    },
    {
      "cell_type": "code",
      "execution_count": 52,
      "metadata": {},
      "outputs": [
        {
          "data": {
            "text/html": [
              "<div>\n",
              "<style scoped>\n",
              "    .dataframe tbody tr th:only-of-type {\n",
              "        vertical-align: middle;\n",
              "    }\n",
              "\n",
              "    .dataframe tbody tr th {\n",
              "        vertical-align: top;\n",
              "    }\n",
              "\n",
              "    .dataframe thead th {\n",
              "        text-align: right;\n",
              "    }\n",
              "</style>\n",
              "<table border=\"1\" class=\"dataframe\">\n",
              "  <thead>\n",
              "    <tr style=\"text-align: right;\">\n",
              "      <th></th>\n",
              "      <th>order_id</th>\n",
              "      <th>customer_id</th>\n",
              "      <th>order_status</th>\n",
              "      <th>order_purchase_timestamp</th>\n",
              "      <th>order_approved_at</th>\n",
              "      <th>order_delivered_carrier_date</th>\n",
              "      <th>order_delivered_customer_date</th>\n",
              "      <th>order_estimated_delivery_date</th>\n",
              "    </tr>\n",
              "  </thead>\n",
              "  <tbody>\n",
              "    <tr>\n",
              "      <th>0</th>\n",
              "      <td>e481f51cbdc54678b7cc49136f2d6af7</td>\n",
              "      <td>9ef432eb6251297304e76186b10a928d</td>\n",
              "      <td>delivered</td>\n",
              "      <td>2017-10-02 10:56:33</td>\n",
              "      <td>2017-10-02 11:07:15</td>\n",
              "      <td>2017-10-04 19:55:00</td>\n",
              "      <td>2017-10-10 21:25:13</td>\n",
              "      <td>2017-10-18 00:00:00</td>\n",
              "    </tr>\n",
              "    <tr>\n",
              "      <th>1</th>\n",
              "      <td>53cdb2fc8bc7dce0b6741e2150273451</td>\n",
              "      <td>b0830fb4747a6c6d20dea0b8c802d7ef</td>\n",
              "      <td>delivered</td>\n",
              "      <td>2018-07-24 20:41:37</td>\n",
              "      <td>2018-07-26 03:24:27</td>\n",
              "      <td>2018-07-26 14:31:00</td>\n",
              "      <td>2018-08-07 15:27:45</td>\n",
              "      <td>2018-08-13 00:00:00</td>\n",
              "    </tr>\n",
              "    <tr>\n",
              "      <th>2</th>\n",
              "      <td>47770eb9100c2d0c44946d9cf07ec65d</td>\n",
              "      <td>41ce2a54c0b03bf3443c3d931a367089</td>\n",
              "      <td>delivered</td>\n",
              "      <td>2018-08-08 08:38:49</td>\n",
              "      <td>2018-08-08 08:55:23</td>\n",
              "      <td>2018-08-08 13:50:00</td>\n",
              "      <td>2018-08-17 18:06:29</td>\n",
              "      <td>2018-09-04 00:00:00</td>\n",
              "    </tr>\n",
              "    <tr>\n",
              "      <th>3</th>\n",
              "      <td>949d5b44dbf5de918fe9c16f97b45f8a</td>\n",
              "      <td>f88197465ea7920adcdbec7375364d82</td>\n",
              "      <td>delivered</td>\n",
              "      <td>2017-11-18 19:28:06</td>\n",
              "      <td>2017-11-18 19:45:59</td>\n",
              "      <td>2017-11-22 13:39:59</td>\n",
              "      <td>2017-12-02 00:28:42</td>\n",
              "      <td>2017-12-15 00:00:00</td>\n",
              "    </tr>\n",
              "    <tr>\n",
              "      <th>4</th>\n",
              "      <td>ad21c59c0840e6cb83a9ceb5573f8159</td>\n",
              "      <td>8ab97904e6daea8866dbdbc4fb7aad2c</td>\n",
              "      <td>delivered</td>\n",
              "      <td>2018-02-13 21:18:39</td>\n",
              "      <td>2018-02-13 22:20:29</td>\n",
              "      <td>2018-02-14 19:46:34</td>\n",
              "      <td>2018-02-16 18:17:02</td>\n",
              "      <td>2018-02-26 00:00:00</td>\n",
              "    </tr>\n",
              "  </tbody>\n",
              "</table>\n",
              "</div>"
            ],
            "text/plain": [
              "                           order_id                       customer_id  \\\n",
              "0  e481f51cbdc54678b7cc49136f2d6af7  9ef432eb6251297304e76186b10a928d   \n",
              "1  53cdb2fc8bc7dce0b6741e2150273451  b0830fb4747a6c6d20dea0b8c802d7ef   \n",
              "2  47770eb9100c2d0c44946d9cf07ec65d  41ce2a54c0b03bf3443c3d931a367089   \n",
              "3  949d5b44dbf5de918fe9c16f97b45f8a  f88197465ea7920adcdbec7375364d82   \n",
              "4  ad21c59c0840e6cb83a9ceb5573f8159  8ab97904e6daea8866dbdbc4fb7aad2c   \n",
              "\n",
              "  order_status order_purchase_timestamp    order_approved_at  \\\n",
              "0    delivered      2017-10-02 10:56:33  2017-10-02 11:07:15   \n",
              "1    delivered      2018-07-24 20:41:37  2018-07-26 03:24:27   \n",
              "2    delivered      2018-08-08 08:38:49  2018-08-08 08:55:23   \n",
              "3    delivered      2017-11-18 19:28:06  2017-11-18 19:45:59   \n",
              "4    delivered      2018-02-13 21:18:39  2018-02-13 22:20:29   \n",
              "\n",
              "  order_delivered_carrier_date order_delivered_customer_date  \\\n",
              "0          2017-10-04 19:55:00           2017-10-10 21:25:13   \n",
              "1          2018-07-26 14:31:00           2018-08-07 15:27:45   \n",
              "2          2018-08-08 13:50:00           2018-08-17 18:06:29   \n",
              "3          2017-11-22 13:39:59           2017-12-02 00:28:42   \n",
              "4          2018-02-14 19:46:34           2018-02-16 18:17:02   \n",
              "\n",
              "  order_estimated_delivery_date  \n",
              "0           2017-10-18 00:00:00  \n",
              "1           2018-08-13 00:00:00  \n",
              "2           2018-09-04 00:00:00  \n",
              "3           2017-12-15 00:00:00  \n",
              "4           2018-02-26 00:00:00  "
            ]
          },
          "execution_count": 52,
          "metadata": {},
          "output_type": "execute_result"
        }
      ],
      "source": [
        "import pandas as pd\n",
        "\n",
        "df_orders = pd.read_csv(\"data/olist_orders_dataset.csv\", delimiter=\",\")\n",
        "\n",
        "df_orders.head()"
      ]
    },
    {
      "cell_type": "markdown",
      "metadata": {
        "id": "FHSiqaZp8DC1"
      },
      "source": [
        "### Assessing Data"
      ]
    },
    {
      "cell_type": "markdown",
      "metadata": {},
      "source": [
        "CUSTOMERS"
      ]
    },
    {
      "cell_type": "markdown",
      "metadata": {},
      "source": [
        "Memeriksa informasi struktur data di dalam DataFrame \"df_customers\""
      ]
    },
    {
      "cell_type": "code",
      "execution_count": 53,
      "metadata": {},
      "outputs": [
        {
          "name": "stdout",
          "output_type": "stream",
          "text": [
            "<class 'pandas.core.frame.DataFrame'>\n",
            "RangeIndex: 99441 entries, 0 to 99440\n",
            "Data columns (total 5 columns):\n",
            " #   Column                    Non-Null Count  Dtype \n",
            "---  ------                    --------------  ----- \n",
            " 0   customer_id               99441 non-null  object\n",
            " 1   customer_unique_id        99441 non-null  object\n",
            " 2   customer_zip_code_prefix  99441 non-null  int64 \n",
            " 3   customer_city             99441 non-null  object\n",
            " 4   customer_state            99441 non-null  object\n",
            "dtypes: int64(1), object(4)\n",
            "memory usage: 3.8+ MB\n"
          ]
        }
      ],
      "source": [
        "df_customers.info()"
      ]
    },
    {
      "cell_type": "markdown",
      "metadata": {},
      "source": [
        "Memeriksa missing value \"df_customers\""
      ]
    },
    {
      "cell_type": "code",
      "execution_count": 54,
      "metadata": {},
      "outputs": [
        {
          "data": {
            "text/plain": [
              "customer_id                 0\n",
              "customer_unique_id          0\n",
              "customer_zip_code_prefix    0\n",
              "customer_city               0\n",
              "customer_state              0\n",
              "dtype: int64"
            ]
          },
          "execution_count": 54,
          "metadata": {},
          "output_type": "execute_result"
        }
      ],
      "source": [
        "df_customers.isnull().sum()"
      ]
    },
    {
      "cell_type": "markdown",
      "metadata": {},
      "source": [
        "Memeriksa Duplicate Data \"df_customers\""
      ]
    },
    {
      "cell_type": "code",
      "execution_count": 55,
      "metadata": {},
      "outputs": [
        {
          "name": "stdout",
          "output_type": "stream",
          "text": [
            "Jumlah duplikasi:  0\n"
          ]
        }
      ],
      "source": [
        "print(\"Jumlah duplikasi: \", df_customers.duplicated().sum())"
      ]
    },
    {
      "cell_type": "markdown",
      "metadata": {},
      "source": [
        "Memeriksa ringkasan statistik deskriptif dari kolom-kolom numerik dalam DataFrame df_customers. "
      ]
    },
    {
      "cell_type": "code",
      "execution_count": 56,
      "metadata": {},
      "outputs": [
        {
          "data": {
            "text/html": [
              "<div>\n",
              "<style scoped>\n",
              "    .dataframe tbody tr th:only-of-type {\n",
              "        vertical-align: middle;\n",
              "    }\n",
              "\n",
              "    .dataframe tbody tr th {\n",
              "        vertical-align: top;\n",
              "    }\n",
              "\n",
              "    .dataframe thead th {\n",
              "        text-align: right;\n",
              "    }\n",
              "</style>\n",
              "<table border=\"1\" class=\"dataframe\">\n",
              "  <thead>\n",
              "    <tr style=\"text-align: right;\">\n",
              "      <th></th>\n",
              "      <th>customer_zip_code_prefix</th>\n",
              "    </tr>\n",
              "  </thead>\n",
              "  <tbody>\n",
              "    <tr>\n",
              "      <th>count</th>\n",
              "      <td>99441.000000</td>\n",
              "    </tr>\n",
              "    <tr>\n",
              "      <th>mean</th>\n",
              "      <td>35137.474583</td>\n",
              "    </tr>\n",
              "    <tr>\n",
              "      <th>std</th>\n",
              "      <td>29797.938996</td>\n",
              "    </tr>\n",
              "    <tr>\n",
              "      <th>min</th>\n",
              "      <td>1003.000000</td>\n",
              "    </tr>\n",
              "    <tr>\n",
              "      <th>25%</th>\n",
              "      <td>11347.000000</td>\n",
              "    </tr>\n",
              "    <tr>\n",
              "      <th>50%</th>\n",
              "      <td>24416.000000</td>\n",
              "    </tr>\n",
              "    <tr>\n",
              "      <th>75%</th>\n",
              "      <td>58900.000000</td>\n",
              "    </tr>\n",
              "    <tr>\n",
              "      <th>max</th>\n",
              "      <td>99990.000000</td>\n",
              "    </tr>\n",
              "  </tbody>\n",
              "</table>\n",
              "</div>"
            ],
            "text/plain": [
              "       customer_zip_code_prefix\n",
              "count              99441.000000\n",
              "mean               35137.474583\n",
              "std                29797.938996\n",
              "min                 1003.000000\n",
              "25%                11347.000000\n",
              "50%                24416.000000\n",
              "75%                58900.000000\n",
              "max                99990.000000"
            ]
          },
          "execution_count": 56,
          "metadata": {},
          "output_type": "execute_result"
        }
      ],
      "source": [
        "df_customers.describe()"
      ]
    },
    {
      "cell_type": "markdown",
      "metadata": {},
      "source": [
        "ORDER ITEMS"
      ]
    },
    {
      "cell_type": "markdown",
      "metadata": {},
      "source": [
        "Memeriksa informasi struktur data di dalam DataFrame \"df_order_items\""
      ]
    },
    {
      "cell_type": "code",
      "execution_count": 57,
      "metadata": {},
      "outputs": [
        {
          "name": "stdout",
          "output_type": "stream",
          "text": [
            "<class 'pandas.core.frame.DataFrame'>\n",
            "RangeIndex: 112650 entries, 0 to 112649\n",
            "Data columns (total 7 columns):\n",
            " #   Column               Non-Null Count   Dtype  \n",
            "---  ------               --------------   -----  \n",
            " 0   order_id             112650 non-null  object \n",
            " 1   order_item_id        112650 non-null  int64  \n",
            " 2   product_id           112650 non-null  object \n",
            " 3   seller_id            112650 non-null  object \n",
            " 4   shipping_limit_date  112650 non-null  object \n",
            " 5   price                112650 non-null  float64\n",
            " 6   freight_value        112650 non-null  float64\n",
            "dtypes: float64(2), int64(1), object(4)\n",
            "memory usage: 6.0+ MB\n"
          ]
        }
      ],
      "source": [
        "df_order_items.info()"
      ]
    },
    {
      "cell_type": "markdown",
      "metadata": {},
      "source": [
        "Memeriksa Missing Value \"df_order_items\""
      ]
    },
    {
      "cell_type": "code",
      "execution_count": 58,
      "metadata": {},
      "outputs": [
        {
          "data": {
            "text/plain": [
              "order_id               0\n",
              "order_item_id          0\n",
              "product_id             0\n",
              "seller_id              0\n",
              "shipping_limit_date    0\n",
              "price                  0\n",
              "freight_value          0\n",
              "dtype: int64"
            ]
          },
          "execution_count": 58,
          "metadata": {},
          "output_type": "execute_result"
        }
      ],
      "source": [
        "df_order_items.isnull().sum()"
      ]
    },
    {
      "cell_type": "markdown",
      "metadata": {},
      "source": [
        "Memeriksa Duplicate Data \"df_order_items\""
      ]
    },
    {
      "cell_type": "code",
      "execution_count": 59,
      "metadata": {},
      "outputs": [
        {
          "name": "stdout",
          "output_type": "stream",
          "text": [
            "Jumlah duplikasi:  0\n"
          ]
        }
      ],
      "source": [
        "print(\"Jumlah duplikasi: \", df_order_items.duplicated().sum())"
      ]
    },
    {
      "cell_type": "markdown",
      "metadata": {},
      "source": [
        "Memeriksa ringkasan statistik deskriptif dari kolom-kolom numerik dalam DataFrame df_order_items. "
      ]
    },
    {
      "cell_type": "code",
      "execution_count": 60,
      "metadata": {},
      "outputs": [
        {
          "data": {
            "text/plain": [
              "<bound method NDFrame.describe of                                 order_id  order_item_id  \\\n",
              "0       00010242fe8c5a6d1ba2dd792cb16214              1   \n",
              "1       00018f77f2f0320c557190d7a144bdd3              1   \n",
              "2       000229ec398224ef6ca0657da4fc703e              1   \n",
              "3       00024acbcdf0a6daa1e931b038114c75              1   \n",
              "4       00042b26cf59d7ce69dfabb4e55b4fd9              1   \n",
              "...                                  ...            ...   \n",
              "112645  fffc94f6ce00a00581880bf54a75a037              1   \n",
              "112646  fffcd46ef2263f404302a634eb57f7eb              1   \n",
              "112647  fffce4705a9662cd70adb13d4a31832d              1   \n",
              "112648  fffe18544ffabc95dfada21779c9644f              1   \n",
              "112649  fffe41c64501cc87c801fd61db3f6244              1   \n",
              "\n",
              "                              product_id                         seller_id  \\\n",
              "0       4244733e06e7ecb4970a6e2683c13e61  48436dade18ac8b2bce089ec2a041202   \n",
              "1       e5f2d52b802189ee658865ca93d83a8f  dd7ddc04e1b6c2c614352b383efe2d36   \n",
              "2       c777355d18b72b67abbeef9df44fd0fd  5b51032eddd242adc84c38acab88f23d   \n",
              "3       7634da152a4610f1595efa32f14722fc  9d7a1d34a5052409006425275ba1c2b4   \n",
              "4       ac6c3623068f30de03045865e4e10089  df560393f3a51e74553ab94004ba5c87   \n",
              "...                                  ...                               ...   \n",
              "112645  4aa6014eceb682077f9dc4bffebc05b0  b8bc237ba3788b23da09c0f1f3a3288c   \n",
              "112646  32e07fd915822b0765e448c4dd74c828  f3c38ab652836d21de61fb8314b69182   \n",
              "112647  72a30483855e2eafc67aee5dc2560482  c3cfdc648177fdbbbb35635a37472c53   \n",
              "112648  9c422a519119dcad7575db5af1ba540e  2b3e4a2a3ea8e01938cabda2a3e5cc79   \n",
              "112649  350688d9dc1e75ff97be326363655e01  f7ccf836d21b2fb1de37564105216cc1   \n",
              "\n",
              "        shipping_limit_date   price  freight_value  \n",
              "0       2017-09-19 09:45:35   58.90          13.29  \n",
              "1       2017-05-03 11:05:13  239.90          19.93  \n",
              "2       2018-01-18 14:48:30  199.00          17.87  \n",
              "3       2018-08-15 10:10:18   12.99          12.79  \n",
              "4       2017-02-13 13:57:51  199.90          18.14  \n",
              "...                     ...     ...            ...  \n",
              "112645  2018-05-02 04:11:01  299.99          43.41  \n",
              "112646  2018-07-20 04:31:48  350.00          36.53  \n",
              "112647  2017-10-30 17:14:25   99.90          16.95  \n",
              "112648  2017-08-21 00:04:32   55.99           8.72  \n",
              "112649  2018-06-12 17:10:13   43.00          12.79  \n",
              "\n",
              "[112650 rows x 7 columns]>"
            ]
          },
          "execution_count": 60,
          "metadata": {},
          "output_type": "execute_result"
        }
      ],
      "source": [
        "df_order_items.describe"
      ]
    },
    {
      "cell_type": "markdown",
      "metadata": {},
      "source": [
        "PRODUCTS"
      ]
    },
    {
      "cell_type": "markdown",
      "metadata": {},
      "source": [
        "Memeriksa informasi struktur data di dalam DataFrame \"df_products\""
      ]
    },
    {
      "cell_type": "code",
      "execution_count": 61,
      "metadata": {},
      "outputs": [
        {
          "name": "stdout",
          "output_type": "stream",
          "text": [
            "<class 'pandas.core.frame.DataFrame'>\n",
            "RangeIndex: 32951 entries, 0 to 32950\n",
            "Data columns (total 9 columns):\n",
            " #   Column                      Non-Null Count  Dtype  \n",
            "---  ------                      --------------  -----  \n",
            " 0   product_id                  32951 non-null  object \n",
            " 1   product_category_name       32341 non-null  object \n",
            " 2   product_name_lenght         32341 non-null  float64\n",
            " 3   product_description_lenght  32341 non-null  float64\n",
            " 4   product_photos_qty          32341 non-null  float64\n",
            " 5   product_weight_g            32949 non-null  float64\n",
            " 6   product_length_cm           32949 non-null  float64\n",
            " 7   product_height_cm           32949 non-null  float64\n",
            " 8   product_width_cm            32949 non-null  float64\n",
            "dtypes: float64(7), object(2)\n",
            "memory usage: 2.3+ MB\n"
          ]
        }
      ],
      "source": [
        "df_products.info()"
      ]
    },
    {
      "cell_type": "markdown",
      "metadata": {},
      "source": [
        "Memeriksa missing value dari \"df_products\""
      ]
    },
    {
      "cell_type": "code",
      "execution_count": 62,
      "metadata": {},
      "outputs": [
        {
          "data": {
            "text/plain": [
              "product_id                      0\n",
              "product_category_name         610\n",
              "product_name_lenght           610\n",
              "product_description_lenght    610\n",
              "product_photos_qty            610\n",
              "product_weight_g                2\n",
              "product_length_cm               2\n",
              "product_height_cm               2\n",
              "product_width_cm                2\n",
              "dtype: int64"
            ]
          },
          "execution_count": 62,
          "metadata": {},
          "output_type": "execute_result"
        }
      ],
      "source": [
        "df_products.isnull().sum()"
      ]
    },
    {
      "cell_type": "markdown",
      "metadata": {},
      "source": [
        "Memeriksa Duplicate Data \"df_products\""
      ]
    },
    {
      "cell_type": "code",
      "execution_count": 63,
      "metadata": {},
      "outputs": [
        {
          "name": "stdout",
          "output_type": "stream",
          "text": [
            "Jumlah duplikasi:  0\n"
          ]
        }
      ],
      "source": [
        "print(\"Jumlah duplikasi: \", df_products.duplicated().sum())"
      ]
    },
    {
      "cell_type": "markdown",
      "metadata": {},
      "source": [
        "Memeriksa ringkasan statistik deskriptif dari kolom-kolom numerik dalam DataFrame df_products. "
      ]
    },
    {
      "cell_type": "code",
      "execution_count": 64,
      "metadata": {},
      "outputs": [
        {
          "data": {
            "text/plain": [
              "<bound method NDFrame.describe of                              product_id              product_category_name  \\\n",
              "0      1e9e8ef04dbcff4541ed26657ea517e5                         perfumaria   \n",
              "1      3aa071139cb16b67ca9e5dea641aaa2f                              artes   \n",
              "2      96bd76ec8810374ed1b65e291975717f                      esporte_lazer   \n",
              "3      cef67bcfe19066a932b7673e239eb23d                              bebes   \n",
              "4      9dc1a7de274444849c219cff195d0b71              utilidades_domesticas   \n",
              "...                                 ...                                ...   \n",
              "32946  a0b7d5a992ccda646f2d34e418fff5a0                   moveis_decoracao   \n",
              "32947  bf4538d88321d0fd4412a93c974510e6  construcao_ferramentas_iluminacao   \n",
              "32948  9a7c6041fa9592d9d9ef6cfe62a71f8c                    cama_mesa_banho   \n",
              "32949  83808703fc0706a22e264b9d75f04a2e             informatica_acessorios   \n",
              "32950  106392145fca363410d287a815be6de4                    cama_mesa_banho   \n",
              "\n",
              "       product_name_lenght  product_description_lenght  product_photos_qty  \\\n",
              "0                     40.0                       287.0                 1.0   \n",
              "1                     44.0                       276.0                 1.0   \n",
              "2                     46.0                       250.0                 1.0   \n",
              "3                     27.0                       261.0                 1.0   \n",
              "4                     37.0                       402.0                 4.0   \n",
              "...                    ...                         ...                 ...   \n",
              "32946                 45.0                        67.0                 2.0   \n",
              "32947                 41.0                       971.0                 1.0   \n",
              "32948                 50.0                       799.0                 1.0   \n",
              "32949                 60.0                       156.0                 2.0   \n",
              "32950                 58.0                       309.0                 1.0   \n",
              "\n",
              "       product_weight_g  product_length_cm  product_height_cm  \\\n",
              "0                 225.0               16.0               10.0   \n",
              "1                1000.0               30.0               18.0   \n",
              "2                 154.0               18.0                9.0   \n",
              "3                 371.0               26.0                4.0   \n",
              "4                 625.0               20.0               17.0   \n",
              "...                 ...                ...                ...   \n",
              "32946           12300.0               40.0               40.0   \n",
              "32947            1700.0               16.0               19.0   \n",
              "32948            1400.0               27.0                7.0   \n",
              "32949             700.0               31.0               13.0   \n",
              "32950            2083.0               12.0                2.0   \n",
              "\n",
              "       product_width_cm  \n",
              "0                  14.0  \n",
              "1                  20.0  \n",
              "2                  15.0  \n",
              "3                  26.0  \n",
              "4                  13.0  \n",
              "...                 ...  \n",
              "32946              40.0  \n",
              "32947              16.0  \n",
              "32948              27.0  \n",
              "32949              20.0  \n",
              "32950               7.0  \n",
              "\n",
              "[32951 rows x 9 columns]>"
            ]
          },
          "execution_count": 64,
          "metadata": {},
          "output_type": "execute_result"
        }
      ],
      "source": [
        "df_products.describe"
      ]
    },
    {
      "cell_type": "markdown",
      "metadata": {},
      "source": [
        "ORDERS"
      ]
    },
    {
      "cell_type": "markdown",
      "metadata": {},
      "source": [
        "Memeriksa informasi struktur data di dalam DataFrame \"df_orders\"\n"
      ]
    },
    {
      "cell_type": "code",
      "execution_count": 65,
      "metadata": {},
      "outputs": [
        {
          "name": "stdout",
          "output_type": "stream",
          "text": [
            "<class 'pandas.core.frame.DataFrame'>\n",
            "RangeIndex: 99441 entries, 0 to 99440\n",
            "Data columns (total 8 columns):\n",
            " #   Column                         Non-Null Count  Dtype \n",
            "---  ------                         --------------  ----- \n",
            " 0   order_id                       99441 non-null  object\n",
            " 1   customer_id                    99441 non-null  object\n",
            " 2   order_status                   99441 non-null  object\n",
            " 3   order_purchase_timestamp       99441 non-null  object\n",
            " 4   order_approved_at              99281 non-null  object\n",
            " 5   order_delivered_carrier_date   97658 non-null  object\n",
            " 6   order_delivered_customer_date  96476 non-null  object\n",
            " 7   order_estimated_delivery_date  99441 non-null  object\n",
            "dtypes: object(8)\n",
            "memory usage: 6.1+ MB\n"
          ]
        }
      ],
      "source": [
        "df_orders.info()"
      ]
    },
    {
      "cell_type": "markdown",
      "metadata": {},
      "source": [
        "Memeriksa missing value dari \"df_orders\""
      ]
    },
    {
      "cell_type": "code",
      "execution_count": 66,
      "metadata": {},
      "outputs": [
        {
          "data": {
            "text/plain": [
              "order_id                            0\n",
              "customer_id                         0\n",
              "order_status                        0\n",
              "order_purchase_timestamp            0\n",
              "order_approved_at                 160\n",
              "order_delivered_carrier_date     1783\n",
              "order_delivered_customer_date    2965\n",
              "order_estimated_delivery_date       0\n",
              "dtype: int64"
            ]
          },
          "execution_count": 66,
          "metadata": {},
          "output_type": "execute_result"
        }
      ],
      "source": [
        "df_orders.isnull().sum()"
      ]
    },
    {
      "cell_type": "markdown",
      "metadata": {},
      "source": [
        "Memeriksa Duplicate Data dari \"df_orders\""
      ]
    },
    {
      "cell_type": "code",
      "execution_count": 67,
      "metadata": {},
      "outputs": [
        {
          "name": "stdout",
          "output_type": "stream",
          "text": [
            "Jumlah duplikasi:  0\n"
          ]
        }
      ],
      "source": [
        "print(\"Jumlah duplikasi: \", df_orders.duplicated().sum())"
      ]
    },
    {
      "cell_type": "markdown",
      "metadata": {},
      "source": [
        "Memeriksa ringkasan statistik deskriptif dari kolom-kolom numerik dalam DataFrame df_orders. "
      ]
    },
    {
      "cell_type": "code",
      "execution_count": 68,
      "metadata": {},
      "outputs": [
        {
          "data": {
            "text/plain": [
              "<bound method NDFrame.describe of                                order_id                       customer_id  \\\n",
              "0      e481f51cbdc54678b7cc49136f2d6af7  9ef432eb6251297304e76186b10a928d   \n",
              "1      53cdb2fc8bc7dce0b6741e2150273451  b0830fb4747a6c6d20dea0b8c802d7ef   \n",
              "2      47770eb9100c2d0c44946d9cf07ec65d  41ce2a54c0b03bf3443c3d931a367089   \n",
              "3      949d5b44dbf5de918fe9c16f97b45f8a  f88197465ea7920adcdbec7375364d82   \n",
              "4      ad21c59c0840e6cb83a9ceb5573f8159  8ab97904e6daea8866dbdbc4fb7aad2c   \n",
              "...                                 ...                               ...   \n",
              "99436  9c5dedf39a927c1b2549525ed64a053c  39bd1228ee8140590ac3aca26f2dfe00   \n",
              "99437  63943bddc261676b46f01ca7ac2f7bd8  1fca14ff2861355f6e5f14306ff977a7   \n",
              "99438  83c1379a015df1e13d02aae0204711ab  1aa71eb042121263aafbe80c1b562c9c   \n",
              "99439  11c177c8e97725db2631073c19f07b62  b331b74b18dc79bcdf6532d51e1637c1   \n",
              "99440  66dea50a8b16d9b4dee7af250b4be1a5  edb027a75a1449115f6b43211ae02a24   \n",
              "\n",
              "      order_status order_purchase_timestamp    order_approved_at  \\\n",
              "0        delivered      2017-10-02 10:56:33  2017-10-02 11:07:15   \n",
              "1        delivered      2018-07-24 20:41:37  2018-07-26 03:24:27   \n",
              "2        delivered      2018-08-08 08:38:49  2018-08-08 08:55:23   \n",
              "3        delivered      2017-11-18 19:28:06  2017-11-18 19:45:59   \n",
              "4        delivered      2018-02-13 21:18:39  2018-02-13 22:20:29   \n",
              "...            ...                      ...                  ...   \n",
              "99436    delivered      2017-03-09 09:54:05  2017-03-09 09:54:05   \n",
              "99437    delivered      2018-02-06 12:58:58  2018-02-06 13:10:37   \n",
              "99438    delivered      2017-08-27 14:46:43  2017-08-27 15:04:16   \n",
              "99439    delivered      2018-01-08 21:28:27  2018-01-08 21:36:21   \n",
              "99440    delivered      2018-03-08 20:57:30  2018-03-09 11:20:28   \n",
              "\n",
              "      order_delivered_carrier_date order_delivered_customer_date  \\\n",
              "0              2017-10-04 19:55:00           2017-10-10 21:25:13   \n",
              "1              2018-07-26 14:31:00           2018-08-07 15:27:45   \n",
              "2              2018-08-08 13:50:00           2018-08-17 18:06:29   \n",
              "3              2017-11-22 13:39:59           2017-12-02 00:28:42   \n",
              "4              2018-02-14 19:46:34           2018-02-16 18:17:02   \n",
              "...                            ...                           ...   \n",
              "99436          2017-03-10 11:18:03           2017-03-17 15:08:01   \n",
              "99437          2018-02-07 23:22:42           2018-02-28 17:37:56   \n",
              "99438          2017-08-28 20:52:26           2017-09-21 11:24:17   \n",
              "99439          2018-01-12 15:35:03           2018-01-25 23:32:54   \n",
              "99440          2018-03-09 22:11:59           2018-03-16 13:08:30   \n",
              "\n",
              "      order_estimated_delivery_date  \n",
              "0               2017-10-18 00:00:00  \n",
              "1               2018-08-13 00:00:00  \n",
              "2               2018-09-04 00:00:00  \n",
              "3               2017-12-15 00:00:00  \n",
              "4               2018-02-26 00:00:00  \n",
              "...                             ...  \n",
              "99436           2017-03-28 00:00:00  \n",
              "99437           2018-03-02 00:00:00  \n",
              "99438           2017-09-27 00:00:00  \n",
              "99439           2018-02-15 00:00:00  \n",
              "99440           2018-04-03 00:00:00  \n",
              "\n",
              "[99441 rows x 8 columns]>"
            ]
          },
          "execution_count": 68,
          "metadata": {},
          "output_type": "execute_result"
        }
      ],
      "source": [
        "df_orders.describe"
      ]
    },
    {
      "cell_type": "markdown",
      "metadata": {
        "id": "EhN5R4hr8DC1"
      },
      "source": [
        "### Cleaning Data"
      ]
    },
    {
      "cell_type": "markdown",
      "metadata": {},
      "source": [
        "MENANGANI MISSING VALUE PRODUCT  MENGGUNAKAN METODE IMPUTATION"
      ]
    },
    {
      "cell_type": "code",
      "execution_count": 69,
      "metadata": {},
      "outputs": [
        {
          "data": {
            "text/html": [
              "<div>\n",
              "<style scoped>\n",
              "    .dataframe tbody tr th:only-of-type {\n",
              "        vertical-align: middle;\n",
              "    }\n",
              "\n",
              "    .dataframe tbody tr th {\n",
              "        vertical-align: top;\n",
              "    }\n",
              "\n",
              "    .dataframe thead th {\n",
              "        text-align: right;\n",
              "    }\n",
              "</style>\n",
              "<table border=\"1\" class=\"dataframe\">\n",
              "  <thead>\n",
              "    <tr style=\"text-align: right;\">\n",
              "      <th></th>\n",
              "      <th>product_id</th>\n",
              "      <th>product_category_name</th>\n",
              "      <th>product_name_lenght</th>\n",
              "      <th>product_description_lenght</th>\n",
              "      <th>product_photos_qty</th>\n",
              "      <th>product_weight_g</th>\n",
              "      <th>product_length_cm</th>\n",
              "      <th>product_height_cm</th>\n",
              "      <th>product_width_cm</th>\n",
              "    </tr>\n",
              "  </thead>\n",
              "  <tbody>\n",
              "    <tr>\n",
              "      <th>105</th>\n",
              "      <td>a41e356c76fab66334f36de622ecbd3a</td>\n",
              "      <td>NaN</td>\n",
              "      <td>NaN</td>\n",
              "      <td>NaN</td>\n",
              "      <td>NaN</td>\n",
              "      <td>650.0</td>\n",
              "      <td>17.0</td>\n",
              "      <td>14.0</td>\n",
              "      <td>12.0</td>\n",
              "    </tr>\n",
              "    <tr>\n",
              "      <th>128</th>\n",
              "      <td>d8dee61c2034d6d075997acef1870e9b</td>\n",
              "      <td>NaN</td>\n",
              "      <td>NaN</td>\n",
              "      <td>NaN</td>\n",
              "      <td>NaN</td>\n",
              "      <td>300.0</td>\n",
              "      <td>16.0</td>\n",
              "      <td>7.0</td>\n",
              "      <td>20.0</td>\n",
              "    </tr>\n",
              "    <tr>\n",
              "      <th>145</th>\n",
              "      <td>56139431d72cd51f19eb9f7dae4d1617</td>\n",
              "      <td>NaN</td>\n",
              "      <td>NaN</td>\n",
              "      <td>NaN</td>\n",
              "      <td>NaN</td>\n",
              "      <td>200.0</td>\n",
              "      <td>20.0</td>\n",
              "      <td>20.0</td>\n",
              "      <td>20.0</td>\n",
              "    </tr>\n",
              "    <tr>\n",
              "      <th>154</th>\n",
              "      <td>46b48281eb6d663ced748f324108c733</td>\n",
              "      <td>NaN</td>\n",
              "      <td>NaN</td>\n",
              "      <td>NaN</td>\n",
              "      <td>NaN</td>\n",
              "      <td>18500.0</td>\n",
              "      <td>41.0</td>\n",
              "      <td>30.0</td>\n",
              "      <td>41.0</td>\n",
              "    </tr>\n",
              "    <tr>\n",
              "      <th>197</th>\n",
              "      <td>5fb61f482620cb672f5e586bb132eae9</td>\n",
              "      <td>NaN</td>\n",
              "      <td>NaN</td>\n",
              "      <td>NaN</td>\n",
              "      <td>NaN</td>\n",
              "      <td>300.0</td>\n",
              "      <td>35.0</td>\n",
              "      <td>7.0</td>\n",
              "      <td>12.0</td>\n",
              "    </tr>\n",
              "    <tr>\n",
              "      <th>...</th>\n",
              "      <td>...</td>\n",
              "      <td>...</td>\n",
              "      <td>...</td>\n",
              "      <td>...</td>\n",
              "      <td>...</td>\n",
              "      <td>...</td>\n",
              "      <td>...</td>\n",
              "      <td>...</td>\n",
              "      <td>...</td>\n",
              "    </tr>\n",
              "    <tr>\n",
              "      <th>32515</th>\n",
              "      <td>b0a0c5dd78e644373b199380612c350a</td>\n",
              "      <td>NaN</td>\n",
              "      <td>NaN</td>\n",
              "      <td>NaN</td>\n",
              "      <td>NaN</td>\n",
              "      <td>1800.0</td>\n",
              "      <td>30.0</td>\n",
              "      <td>20.0</td>\n",
              "      <td>70.0</td>\n",
              "    </tr>\n",
              "    <tr>\n",
              "      <th>32589</th>\n",
              "      <td>10dbe0fbaa2c505123c17fdc34a63c56</td>\n",
              "      <td>NaN</td>\n",
              "      <td>NaN</td>\n",
              "      <td>NaN</td>\n",
              "      <td>NaN</td>\n",
              "      <td>800.0</td>\n",
              "      <td>30.0</td>\n",
              "      <td>10.0</td>\n",
              "      <td>23.0</td>\n",
              "    </tr>\n",
              "    <tr>\n",
              "      <th>32616</th>\n",
              "      <td>bd2ada37b58ae94cc838b9c0569fecd8</td>\n",
              "      <td>NaN</td>\n",
              "      <td>NaN</td>\n",
              "      <td>NaN</td>\n",
              "      <td>NaN</td>\n",
              "      <td>200.0</td>\n",
              "      <td>21.0</td>\n",
              "      <td>8.0</td>\n",
              "      <td>16.0</td>\n",
              "    </tr>\n",
              "    <tr>\n",
              "      <th>32772</th>\n",
              "      <td>fa51e914046aab32764c41356b9d4ea4</td>\n",
              "      <td>NaN</td>\n",
              "      <td>NaN</td>\n",
              "      <td>NaN</td>\n",
              "      <td>NaN</td>\n",
              "      <td>1300.0</td>\n",
              "      <td>45.0</td>\n",
              "      <td>16.0</td>\n",
              "      <td>45.0</td>\n",
              "    </tr>\n",
              "    <tr>\n",
              "      <th>32852</th>\n",
              "      <td>c4ceee876c82b8328e9c293fa0e1989b</td>\n",
              "      <td>NaN</td>\n",
              "      <td>NaN</td>\n",
              "      <td>NaN</td>\n",
              "      <td>NaN</td>\n",
              "      <td>700.0</td>\n",
              "      <td>28.0</td>\n",
              "      <td>3.0</td>\n",
              "      <td>43.0</td>\n",
              "    </tr>\n",
              "  </tbody>\n",
              "</table>\n",
              "<p>610 rows × 9 columns</p>\n",
              "</div>"
            ],
            "text/plain": [
              "                             product_id product_category_name  \\\n",
              "105    a41e356c76fab66334f36de622ecbd3a                   NaN   \n",
              "128    d8dee61c2034d6d075997acef1870e9b                   NaN   \n",
              "145    56139431d72cd51f19eb9f7dae4d1617                   NaN   \n",
              "154    46b48281eb6d663ced748f324108c733                   NaN   \n",
              "197    5fb61f482620cb672f5e586bb132eae9                   NaN   \n",
              "...                                 ...                   ...   \n",
              "32515  b0a0c5dd78e644373b199380612c350a                   NaN   \n",
              "32589  10dbe0fbaa2c505123c17fdc34a63c56                   NaN   \n",
              "32616  bd2ada37b58ae94cc838b9c0569fecd8                   NaN   \n",
              "32772  fa51e914046aab32764c41356b9d4ea4                   NaN   \n",
              "32852  c4ceee876c82b8328e9c293fa0e1989b                   NaN   \n",
              "\n",
              "       product_name_lenght  product_description_lenght  product_photos_qty  \\\n",
              "105                    NaN                         NaN                 NaN   \n",
              "128                    NaN                         NaN                 NaN   \n",
              "145                    NaN                         NaN                 NaN   \n",
              "154                    NaN                         NaN                 NaN   \n",
              "197                    NaN                         NaN                 NaN   \n",
              "...                    ...                         ...                 ...   \n",
              "32515                  NaN                         NaN                 NaN   \n",
              "32589                  NaN                         NaN                 NaN   \n",
              "32616                  NaN                         NaN                 NaN   \n",
              "32772                  NaN                         NaN                 NaN   \n",
              "32852                  NaN                         NaN                 NaN   \n",
              "\n",
              "       product_weight_g  product_length_cm  product_height_cm  \\\n",
              "105               650.0               17.0               14.0   \n",
              "128               300.0               16.0                7.0   \n",
              "145               200.0               20.0               20.0   \n",
              "154             18500.0               41.0               30.0   \n",
              "197               300.0               35.0                7.0   \n",
              "...                 ...                ...                ...   \n",
              "32515            1800.0               30.0               20.0   \n",
              "32589             800.0               30.0               10.0   \n",
              "32616             200.0               21.0                8.0   \n",
              "32772            1300.0               45.0               16.0   \n",
              "32852             700.0               28.0                3.0   \n",
              "\n",
              "       product_width_cm  \n",
              "105                12.0  \n",
              "128                20.0  \n",
              "145                20.0  \n",
              "154                41.0  \n",
              "197                12.0  \n",
              "...                 ...  \n",
              "32515              70.0  \n",
              "32589              23.0  \n",
              "32616              16.0  \n",
              "32772              45.0  \n",
              "32852              43.0  \n",
              "\n",
              "[610 rows x 9 columns]"
            ]
          },
          "execution_count": 69,
          "metadata": {},
          "output_type": "execute_result"
        }
      ],
      "source": [
        "df_products[df_products.product_category_name.isna()]"
      ]
    },
    {
      "cell_type": "markdown",
      "metadata": {},
      "source": [
        "Menghitung jumlah kemunculan setiap nilai unik dalam kolom product_category_name dari DataFrame df_products. "
      ]
    },
    {
      "cell_type": "code",
      "execution_count": 70,
      "metadata": {},
      "outputs": [
        {
          "data": {
            "text/plain": [
              "product_category_name\n",
              "cama_mesa_banho                  3029\n",
              "esporte_lazer                    2867\n",
              "moveis_decoracao                 2657\n",
              "beleza_saude                     2444\n",
              "utilidades_domesticas            2335\n",
              "                                 ... \n",
              "fashion_roupa_infanto_juvenil       5\n",
              "casa_conforto_2                     5\n",
              "pc_gamer                            3\n",
              "seguros_e_servicos                  2\n",
              "cds_dvds_musicais                   1\n",
              "Name: count, Length: 73, dtype: int64"
            ]
          },
          "execution_count": 70,
          "metadata": {},
          "output_type": "execute_result"
        }
      ],
      "source": [
        "df_products.product_category_name.value_counts()"
      ]
    },
    {
      "cell_type": "markdown",
      "metadata": {},
      "source": [
        "Mengisi nilai yang hilang (NaN) dalam DataFrame df_products dengan nilai \"cama_mesa_banho\"."
      ]
    },
    {
      "cell_type": "code",
      "execution_count": 71,
      "metadata": {},
      "outputs": [],
      "source": [
        "df_products.fillna(value=\"cama_mesa_banho\", inplace=True)"
      ]
    },
    {
      "cell_type": "markdown",
      "metadata": {},
      "source": [
        "Menghitung jumlah nilai yang hilang (NaN) dalam setiap kolom DataFrame df_products."
      ]
    },
    {
      "cell_type": "code",
      "execution_count": 72,
      "metadata": {},
      "outputs": [
        {
          "data": {
            "text/plain": [
              "product_id                    0\n",
              "product_category_name         0\n",
              "product_name_lenght           0\n",
              "product_description_lenght    0\n",
              "product_photos_qty            0\n",
              "product_weight_g              0\n",
              "product_length_cm             0\n",
              "product_height_cm             0\n",
              "product_width_cm              0\n",
              "dtype: int64"
            ]
          },
          "execution_count": 72,
          "metadata": {},
          "output_type": "execute_result"
        }
      ],
      "source": [
        "df_products.isna().sum()"
      ]
    },
    {
      "cell_type": "markdown",
      "metadata": {},
      "source": [
        "MENGGANTI TIPE DATA PADA ORDER ITEMS"
      ]
    },
    {
      "cell_type": "code",
      "execution_count": 73,
      "metadata": {},
      "outputs": [],
      "source": [
        "datetime_columns = [\"shipping_limit_date\"]\n",
        " \n",
        "for column in datetime_columns:\n",
        "  df_order_items[column] = pd.to_datetime(df_order_items[column])"
      ]
    },
    {
      "cell_type": "markdown",
      "metadata": {},
      "source": [
        "Mengecek kembali informasi tentang struktur data di dalam DataFrame df_order_items."
      ]
    },
    {
      "cell_type": "code",
      "execution_count": 74,
      "metadata": {},
      "outputs": [
        {
          "name": "stdout",
          "output_type": "stream",
          "text": [
            "<class 'pandas.core.frame.DataFrame'>\n",
            "RangeIndex: 112650 entries, 0 to 112649\n",
            "Data columns (total 7 columns):\n",
            " #   Column               Non-Null Count   Dtype         \n",
            "---  ------               --------------   -----         \n",
            " 0   order_id             112650 non-null  object        \n",
            " 1   order_item_id        112650 non-null  int64         \n",
            " 2   product_id           112650 non-null  object        \n",
            " 3   seller_id            112650 non-null  object        \n",
            " 4   shipping_limit_date  112650 non-null  datetime64[ns]\n",
            " 5   price                112650 non-null  float64       \n",
            " 6   freight_value        112650 non-null  float64       \n",
            "dtypes: datetime64[ns](1), float64(2), int64(1), object(3)\n",
            "memory usage: 6.0+ MB\n"
          ]
        }
      ],
      "source": [
        "df_order_items.info()"
      ]
    },
    {
      "cell_type": "markdown",
      "metadata": {},
      "source": [
        "MEMBERSIHKAN MISSING VALUE ORDERS"
      ]
    },
    {
      "cell_type": "code",
      "execution_count": 75,
      "metadata": {},
      "outputs": [
        {
          "data": {
            "text/html": [
              "<div>\n",
              "<style scoped>\n",
              "    .dataframe tbody tr th:only-of-type {\n",
              "        vertical-align: middle;\n",
              "    }\n",
              "\n",
              "    .dataframe tbody tr th {\n",
              "        vertical-align: top;\n",
              "    }\n",
              "\n",
              "    .dataframe thead th {\n",
              "        text-align: right;\n",
              "    }\n",
              "</style>\n",
              "<table border=\"1\" class=\"dataframe\">\n",
              "  <thead>\n",
              "    <tr style=\"text-align: right;\">\n",
              "      <th></th>\n",
              "      <th>order_id</th>\n",
              "      <th>customer_id</th>\n",
              "      <th>order_status</th>\n",
              "      <th>order_purchase_timestamp</th>\n",
              "      <th>order_approved_at</th>\n",
              "      <th>order_delivered_carrier_date</th>\n",
              "      <th>order_delivered_customer_date</th>\n",
              "      <th>order_estimated_delivery_date</th>\n",
              "    </tr>\n",
              "  </thead>\n",
              "  <tbody>\n",
              "    <tr>\n",
              "      <th>1130</th>\n",
              "      <td>00b1cb0320190ca0daa2c88b35206009</td>\n",
              "      <td>3532ba38a3fd242259a514ac2b6ae6b6</td>\n",
              "      <td>canceled</td>\n",
              "      <td>2018-08-28 15:26:39</td>\n",
              "      <td>NaN</td>\n",
              "      <td>NaN</td>\n",
              "      <td>NaN</td>\n",
              "      <td>2018-09-12 00:00:00</td>\n",
              "    </tr>\n",
              "    <tr>\n",
              "      <th>1801</th>\n",
              "      <td>ed3efbd3a87bea76c2812c66a0b32219</td>\n",
              "      <td>191984a8ba4cbb2145acb4fe35b69664</td>\n",
              "      <td>canceled</td>\n",
              "      <td>2018-09-20 13:54:16</td>\n",
              "      <td>NaN</td>\n",
              "      <td>NaN</td>\n",
              "      <td>NaN</td>\n",
              "      <td>2018-10-17 00:00:00</td>\n",
              "    </tr>\n",
              "    <tr>\n",
              "      <th>1868</th>\n",
              "      <td>df8282afe61008dc26c6c31011474d02</td>\n",
              "      <td>aa797b187b5466bc6925aaaa4bb3bed1</td>\n",
              "      <td>canceled</td>\n",
              "      <td>2017-03-04 12:14:30</td>\n",
              "      <td>NaN</td>\n",
              "      <td>NaN</td>\n",
              "      <td>NaN</td>\n",
              "      <td>2017-04-10 00:00:00</td>\n",
              "    </tr>\n",
              "    <tr>\n",
              "      <th>2029</th>\n",
              "      <td>8d4c637f1accf7a88a4555f02741e606</td>\n",
              "      <td>b1dd715db389a2077f43174e7a675d07</td>\n",
              "      <td>canceled</td>\n",
              "      <td>2018-08-29 16:27:49</td>\n",
              "      <td>NaN</td>\n",
              "      <td>NaN</td>\n",
              "      <td>NaN</td>\n",
              "      <td>2018-09-13 00:00:00</td>\n",
              "    </tr>\n",
              "    <tr>\n",
              "      <th>2161</th>\n",
              "      <td>7a9d4c7f9b068337875b95465330f2fc</td>\n",
              "      <td>7f71ae48074c0cfec9195f88fcbfac55</td>\n",
              "      <td>canceled</td>\n",
              "      <td>2017-05-01 16:12:39</td>\n",
              "      <td>NaN</td>\n",
              "      <td>NaN</td>\n",
              "      <td>NaN</td>\n",
              "      <td>2017-05-30 00:00:00</td>\n",
              "    </tr>\n",
              "    <tr>\n",
              "      <th>...</th>\n",
              "      <td>...</td>\n",
              "      <td>...</td>\n",
              "      <td>...</td>\n",
              "      <td>...</td>\n",
              "      <td>...</td>\n",
              "      <td>...</td>\n",
              "      <td>...</td>\n",
              "      <td>...</td>\n",
              "    </tr>\n",
              "    <tr>\n",
              "      <th>97696</th>\n",
              "      <td>5a00b4d35edffc56b825c3646a99ba9d</td>\n",
              "      <td>6a3bdf004ca96338fb5fad1b8d93c2e6</td>\n",
              "      <td>canceled</td>\n",
              "      <td>2017-07-02 15:38:46</td>\n",
              "      <td>NaN</td>\n",
              "      <td>NaN</td>\n",
              "      <td>NaN</td>\n",
              "      <td>2017-07-25 00:00:00</td>\n",
              "    </tr>\n",
              "    <tr>\n",
              "      <th>98415</th>\n",
              "      <td>227c804e2a44760671a6a5697ea549e4</td>\n",
              "      <td>62e7477e75e542243ee62a0ba73f410f</td>\n",
              "      <td>canceled</td>\n",
              "      <td>2017-09-28 15:02:56</td>\n",
              "      <td>NaN</td>\n",
              "      <td>NaN</td>\n",
              "      <td>NaN</td>\n",
              "      <td>2017-10-16 00:00:00</td>\n",
              "    </tr>\n",
              "    <tr>\n",
              "      <th>98909</th>\n",
              "      <td>e49e7ce1471b4693482d40c2bd3ad196</td>\n",
              "      <td>e4e7ab3f449aeb401f0216f86c2104db</td>\n",
              "      <td>canceled</td>\n",
              "      <td>2018-08-07 11:16:28</td>\n",
              "      <td>NaN</td>\n",
              "      <td>NaN</td>\n",
              "      <td>NaN</td>\n",
              "      <td>2018-08-10 00:00:00</td>\n",
              "    </tr>\n",
              "    <tr>\n",
              "      <th>99283</th>\n",
              "      <td>3a3cddda5a7c27851bd96c3313412840</td>\n",
              "      <td>0b0d6095c5555fe083844281f6b093bb</td>\n",
              "      <td>canceled</td>\n",
              "      <td>2018-08-31 16:13:44</td>\n",
              "      <td>NaN</td>\n",
              "      <td>NaN</td>\n",
              "      <td>NaN</td>\n",
              "      <td>2018-10-01 00:00:00</td>\n",
              "    </tr>\n",
              "    <tr>\n",
              "      <th>99347</th>\n",
              "      <td>a89abace0dcc01eeb267a9660b5ac126</td>\n",
              "      <td>2f0524a7b1b3845a1a57fcf3910c4333</td>\n",
              "      <td>canceled</td>\n",
              "      <td>2018-09-06 18:45:47</td>\n",
              "      <td>NaN</td>\n",
              "      <td>NaN</td>\n",
              "      <td>NaN</td>\n",
              "      <td>2018-09-27 00:00:00</td>\n",
              "    </tr>\n",
              "  </tbody>\n",
              "</table>\n",
              "<p>160 rows × 8 columns</p>\n",
              "</div>"
            ],
            "text/plain": [
              "                               order_id                       customer_id  \\\n",
              "1130   00b1cb0320190ca0daa2c88b35206009  3532ba38a3fd242259a514ac2b6ae6b6   \n",
              "1801   ed3efbd3a87bea76c2812c66a0b32219  191984a8ba4cbb2145acb4fe35b69664   \n",
              "1868   df8282afe61008dc26c6c31011474d02  aa797b187b5466bc6925aaaa4bb3bed1   \n",
              "2029   8d4c637f1accf7a88a4555f02741e606  b1dd715db389a2077f43174e7a675d07   \n",
              "2161   7a9d4c7f9b068337875b95465330f2fc  7f71ae48074c0cfec9195f88fcbfac55   \n",
              "...                                 ...                               ...   \n",
              "97696  5a00b4d35edffc56b825c3646a99ba9d  6a3bdf004ca96338fb5fad1b8d93c2e6   \n",
              "98415  227c804e2a44760671a6a5697ea549e4  62e7477e75e542243ee62a0ba73f410f   \n",
              "98909  e49e7ce1471b4693482d40c2bd3ad196  e4e7ab3f449aeb401f0216f86c2104db   \n",
              "99283  3a3cddda5a7c27851bd96c3313412840  0b0d6095c5555fe083844281f6b093bb   \n",
              "99347  a89abace0dcc01eeb267a9660b5ac126  2f0524a7b1b3845a1a57fcf3910c4333   \n",
              "\n",
              "      order_status order_purchase_timestamp order_approved_at  \\\n",
              "1130      canceled      2018-08-28 15:26:39               NaN   \n",
              "1801      canceled      2018-09-20 13:54:16               NaN   \n",
              "1868      canceled      2017-03-04 12:14:30               NaN   \n",
              "2029      canceled      2018-08-29 16:27:49               NaN   \n",
              "2161      canceled      2017-05-01 16:12:39               NaN   \n",
              "...            ...                      ...               ...   \n",
              "97696     canceled      2017-07-02 15:38:46               NaN   \n",
              "98415     canceled      2017-09-28 15:02:56               NaN   \n",
              "98909     canceled      2018-08-07 11:16:28               NaN   \n",
              "99283     canceled      2018-08-31 16:13:44               NaN   \n",
              "99347     canceled      2018-09-06 18:45:47               NaN   \n",
              "\n",
              "      order_delivered_carrier_date order_delivered_customer_date  \\\n",
              "1130                           NaN                           NaN   \n",
              "1801                           NaN                           NaN   \n",
              "1868                           NaN                           NaN   \n",
              "2029                           NaN                           NaN   \n",
              "2161                           NaN                           NaN   \n",
              "...                            ...                           ...   \n",
              "97696                          NaN                           NaN   \n",
              "98415                          NaN                           NaN   \n",
              "98909                          NaN                           NaN   \n",
              "99283                          NaN                           NaN   \n",
              "99347                          NaN                           NaN   \n",
              "\n",
              "      order_estimated_delivery_date  \n",
              "1130            2018-09-12 00:00:00  \n",
              "1801            2018-10-17 00:00:00  \n",
              "1868            2017-04-10 00:00:00  \n",
              "2029            2018-09-13 00:00:00  \n",
              "2161            2017-05-30 00:00:00  \n",
              "...                             ...  \n",
              "97696           2017-07-25 00:00:00  \n",
              "98415           2017-10-16 00:00:00  \n",
              "98909           2018-08-10 00:00:00  \n",
              "99283           2018-10-01 00:00:00  \n",
              "99347           2018-09-27 00:00:00  \n",
              "\n",
              "[160 rows x 8 columns]"
            ]
          },
          "execution_count": 75,
          "metadata": {},
          "output_type": "execute_result"
        }
      ],
      "source": [
        "df_orders[df_orders.order_approved_at.isna()]"
      ]
    },
    {
      "cell_type": "markdown",
      "metadata": {},
      "source": [
        "Menghitung jumlah kemunculan setiap nilai unik dalam kolom order_approved_at dari DataFrame df_orders."
      ]
    },
    {
      "cell_type": "code",
      "execution_count": 76,
      "metadata": {},
      "outputs": [
        {
          "data": {
            "text/plain": [
              "order_approved_at\n",
              "2018-02-27 04:31:10    9\n",
              "2017-11-07 07:30:38    7\n",
              "2018-02-27 04:31:01    7\n",
              "2018-02-06 05:31:52    7\n",
              "2017-11-07 07:30:29    7\n",
              "                      ..\n",
              "2018-08-22 11:50:14    1\n",
              "2017-09-22 11:27:36    1\n",
              "2018-03-07 16:40:32    1\n",
              "2017-08-08 10:50:15    1\n",
              "2018-03-09 11:20:28    1\n",
              "Name: count, Length: 90733, dtype: int64"
            ]
          },
          "execution_count": 76,
          "metadata": {},
          "output_type": "execute_result"
        }
      ],
      "source": [
        "df_orders.order_approved_at.value_counts()"
      ]
    },
    {
      "cell_type": "markdown",
      "metadata": {},
      "source": [
        "Mengisi nilai yang hilang (NaN) dalam DataFrame df_orders dengan \"2018-02-27 04:31:10\". "
      ]
    },
    {
      "cell_type": "code",
      "execution_count": 77,
      "metadata": {},
      "outputs": [],
      "source": [
        "df_orders.fillna(value=\"2018-02-27 04:31:10\", inplace=True)"
      ]
    },
    {
      "cell_type": "markdown",
      "metadata": {},
      "source": [
        "Menghitung jumlah nilai yang hilang (NaN) dalam setiap kolom DataFrame df_orders."
      ]
    },
    {
      "cell_type": "code",
      "execution_count": 78,
      "metadata": {},
      "outputs": [
        {
          "data": {
            "text/plain": [
              "order_id                         0\n",
              "customer_id                      0\n",
              "order_status                     0\n",
              "order_purchase_timestamp         0\n",
              "order_approved_at                0\n",
              "order_delivered_carrier_date     0\n",
              "order_delivered_customer_date    0\n",
              "order_estimated_delivery_date    0\n",
              "dtype: int64"
            ]
          },
          "execution_count": 78,
          "metadata": {},
          "output_type": "execute_result"
        }
      ],
      "source": [
        "df_orders.isna().sum()"
      ]
    },
    {
      "cell_type": "markdown",
      "metadata": {},
      "source": [
        "Mengganti tipe data pada Orders"
      ]
    },
    {
      "cell_type": "code",
      "execution_count": 79,
      "metadata": {},
      "outputs": [],
      "source": [
        "datetime_columns = [\"order_purchase_timestamp\", \"order_approved_at\", \"order_delivered_carrier_date\", \"order_delivered_customer_date\", \"order_estimated_delivery_date\"]\n",
        " \n",
        "for column in datetime_columns:\n",
        "  df_orders[column] = pd.to_datetime(df_orders[column])"
      ]
    },
    {
      "cell_type": "markdown",
      "metadata": {},
      "source": [
        "Mengecek kembali informasi tentang struktur data di dalam DataFrame df_orders."
      ]
    },
    {
      "cell_type": "code",
      "execution_count": 80,
      "metadata": {},
      "outputs": [
        {
          "name": "stdout",
          "output_type": "stream",
          "text": [
            "<class 'pandas.core.frame.DataFrame'>\n",
            "RangeIndex: 99441 entries, 0 to 99440\n",
            "Data columns (total 8 columns):\n",
            " #   Column                         Non-Null Count  Dtype         \n",
            "---  ------                         --------------  -----         \n",
            " 0   order_id                       99441 non-null  object        \n",
            " 1   customer_id                    99441 non-null  object        \n",
            " 2   order_status                   99441 non-null  object        \n",
            " 3   order_purchase_timestamp       99441 non-null  datetime64[ns]\n",
            " 4   order_approved_at              99441 non-null  datetime64[ns]\n",
            " 5   order_delivered_carrier_date   99441 non-null  datetime64[ns]\n",
            " 6   order_delivered_customer_date  99441 non-null  datetime64[ns]\n",
            " 7   order_estimated_delivery_date  99441 non-null  datetime64[ns]\n",
            "dtypes: datetime64[ns](5), object(3)\n",
            "memory usage: 6.1+ MB\n"
          ]
        }
      ],
      "source": [
        "df_orders.info()"
      ]
    },
    {
      "cell_type": "markdown",
      "metadata": {
        "id": "gp-Y6wU38DC1"
      },
      "source": [
        "## Exploratory Data Analysis (EDA)"
      ]
    },
    {
      "cell_type": "markdown",
      "metadata": {
        "id": "MW7WF2kr8DC1"
      },
      "source": [
        "### Explore ..."
      ]
    },
    {
      "cell_type": "markdown",
      "metadata": {},
      "source": [
        "CUSTOMERS"
      ]
    },
    {
      "cell_type": "markdown",
      "metadata": {},
      "source": [
        "Memeriksa statistik deskriptif untuk semua kolom dalam DataFrame, termasuk kolom-kolom non-numerik seperti kolom-kolom yang berisi nilai string atau objek."
      ]
    },
    {
      "cell_type": "code",
      "execution_count": 81,
      "metadata": {
        "id": "e9CQCZjk8DC2"
      },
      "outputs": [
        {
          "data": {
            "text/html": [
              "<div>\n",
              "<style scoped>\n",
              "    .dataframe tbody tr th:only-of-type {\n",
              "        vertical-align: middle;\n",
              "    }\n",
              "\n",
              "    .dataframe tbody tr th {\n",
              "        vertical-align: top;\n",
              "    }\n",
              "\n",
              "    .dataframe thead th {\n",
              "        text-align: right;\n",
              "    }\n",
              "</style>\n",
              "<table border=\"1\" class=\"dataframe\">\n",
              "  <thead>\n",
              "    <tr style=\"text-align: right;\">\n",
              "      <th></th>\n",
              "      <th>customer_id</th>\n",
              "      <th>customer_unique_id</th>\n",
              "      <th>customer_zip_code_prefix</th>\n",
              "      <th>customer_city</th>\n",
              "      <th>customer_state</th>\n",
              "    </tr>\n",
              "  </thead>\n",
              "  <tbody>\n",
              "    <tr>\n",
              "      <th>count</th>\n",
              "      <td>99441</td>\n",
              "      <td>99441</td>\n",
              "      <td>99441.000000</td>\n",
              "      <td>99441</td>\n",
              "      <td>99441</td>\n",
              "    </tr>\n",
              "    <tr>\n",
              "      <th>unique</th>\n",
              "      <td>99441</td>\n",
              "      <td>96096</td>\n",
              "      <td>NaN</td>\n",
              "      <td>4119</td>\n",
              "      <td>27</td>\n",
              "    </tr>\n",
              "    <tr>\n",
              "      <th>top</th>\n",
              "      <td>06b8999e2fba1a1fbc88172c00ba8bc7</td>\n",
              "      <td>8d50f5eadf50201ccdcedfb9e2ac8455</td>\n",
              "      <td>NaN</td>\n",
              "      <td>sao paulo</td>\n",
              "      <td>SP</td>\n",
              "    </tr>\n",
              "    <tr>\n",
              "      <th>freq</th>\n",
              "      <td>1</td>\n",
              "      <td>17</td>\n",
              "      <td>NaN</td>\n",
              "      <td>15540</td>\n",
              "      <td>41746</td>\n",
              "    </tr>\n",
              "    <tr>\n",
              "      <th>mean</th>\n",
              "      <td>NaN</td>\n",
              "      <td>NaN</td>\n",
              "      <td>35137.474583</td>\n",
              "      <td>NaN</td>\n",
              "      <td>NaN</td>\n",
              "    </tr>\n",
              "    <tr>\n",
              "      <th>std</th>\n",
              "      <td>NaN</td>\n",
              "      <td>NaN</td>\n",
              "      <td>29797.938996</td>\n",
              "      <td>NaN</td>\n",
              "      <td>NaN</td>\n",
              "    </tr>\n",
              "    <tr>\n",
              "      <th>min</th>\n",
              "      <td>NaN</td>\n",
              "      <td>NaN</td>\n",
              "      <td>1003.000000</td>\n",
              "      <td>NaN</td>\n",
              "      <td>NaN</td>\n",
              "    </tr>\n",
              "    <tr>\n",
              "      <th>25%</th>\n",
              "      <td>NaN</td>\n",
              "      <td>NaN</td>\n",
              "      <td>11347.000000</td>\n",
              "      <td>NaN</td>\n",
              "      <td>NaN</td>\n",
              "    </tr>\n",
              "    <tr>\n",
              "      <th>50%</th>\n",
              "      <td>NaN</td>\n",
              "      <td>NaN</td>\n",
              "      <td>24416.000000</td>\n",
              "      <td>NaN</td>\n",
              "      <td>NaN</td>\n",
              "    </tr>\n",
              "    <tr>\n",
              "      <th>75%</th>\n",
              "      <td>NaN</td>\n",
              "      <td>NaN</td>\n",
              "      <td>58900.000000</td>\n",
              "      <td>NaN</td>\n",
              "      <td>NaN</td>\n",
              "    </tr>\n",
              "    <tr>\n",
              "      <th>max</th>\n",
              "      <td>NaN</td>\n",
              "      <td>NaN</td>\n",
              "      <td>99990.000000</td>\n",
              "      <td>NaN</td>\n",
              "      <td>NaN</td>\n",
              "    </tr>\n",
              "  </tbody>\n",
              "</table>\n",
              "</div>"
            ],
            "text/plain": [
              "                             customer_id                customer_unique_id  \\\n",
              "count                              99441                             99441   \n",
              "unique                             99441                             96096   \n",
              "top     06b8999e2fba1a1fbc88172c00ba8bc7  8d50f5eadf50201ccdcedfb9e2ac8455   \n",
              "freq                                   1                                17   \n",
              "mean                                 NaN                               NaN   \n",
              "std                                  NaN                               NaN   \n",
              "min                                  NaN                               NaN   \n",
              "25%                                  NaN                               NaN   \n",
              "50%                                  NaN                               NaN   \n",
              "75%                                  NaN                               NaN   \n",
              "max                                  NaN                               NaN   \n",
              "\n",
              "        customer_zip_code_prefix customer_city customer_state  \n",
              "count               99441.000000         99441          99441  \n",
              "unique                       NaN          4119             27  \n",
              "top                          NaN     sao paulo             SP  \n",
              "freq                         NaN         15540          41746  \n",
              "mean                35137.474583           NaN            NaN  \n",
              "std                 29797.938996           NaN            NaN  \n",
              "min                  1003.000000           NaN            NaN  \n",
              "25%                 11347.000000           NaN            NaN  \n",
              "50%                 24416.000000           NaN            NaN  \n",
              "75%                 58900.000000           NaN            NaN  \n",
              "max                 99990.000000           NaN            NaN  "
            ]
          },
          "execution_count": 81,
          "metadata": {},
          "output_type": "execute_result"
        }
      ],
      "source": [
        "df_customers.describe(include=\"all\")"
      ]
    },
    {
      "cell_type": "markdown",
      "metadata": {},
      "source": [
        "Mengelompokkan data dalam DataFrame df_customers berdasarkan kolom customer_city, kemudian menghitung jumlah nilai unik dari customer_id dalam setiap kelompok (kota), dan akhirnya menyortir nilai-nilai tersebut secara menurun (descending order)."
      ]
    },
    {
      "cell_type": "code",
      "execution_count": 82,
      "metadata": {},
      "outputs": [
        {
          "data": {
            "text/plain": [
              "customer_city\n",
              "sao paulo         15540\n",
              "rio de janeiro     6882\n",
              "belo horizonte     2773\n",
              "brasilia           2131\n",
              "curitiba           1521\n",
              "                  ...  \n",
              "ibiara                1\n",
              "rio espera            1\n",
              "rio dos indios        1\n",
              "rio dos cedros        1\n",
              "lagoao                1\n",
              "Name: customer_id, Length: 4119, dtype: int64"
            ]
          },
          "execution_count": 82,
          "metadata": {},
          "output_type": "execute_result"
        }
      ],
      "source": [
        "df_customers.groupby(by=\"customer_city\").customer_id.nunique().sort_values(ascending=False)"
      ]
    },
    {
      "cell_type": "markdown",
      "metadata": {},
      "source": [
        "Mengelompokkan data dalam DataFrame df_customers berdasarkan kolom customer_state, kemudian menghitung jumlah nilai unik dari customer_id dalam setiap kelompok (negara bagian), dan akhirnya menyortir nilai-nilai tersebut secara menurun (descending order)."
      ]
    },
    {
      "cell_type": "code",
      "execution_count": 83,
      "metadata": {},
      "outputs": [
        {
          "data": {
            "text/plain": [
              "customer_state\n",
              "SP    41746\n",
              "RJ    12852\n",
              "MG    11635\n",
              "RS     5466\n",
              "PR     5045\n",
              "SC     3637\n",
              "BA     3380\n",
              "DF     2140\n",
              "ES     2033\n",
              "GO     2020\n",
              "PE     1652\n",
              "CE     1336\n",
              "PA      975\n",
              "MT      907\n",
              "MA      747\n",
              "MS      715\n",
              "PB      536\n",
              "PI      495\n",
              "RN      485\n",
              "AL      413\n",
              "SE      350\n",
              "TO      280\n",
              "RO      253\n",
              "AM      148\n",
              "AC       81\n",
              "AP       68\n",
              "RR       46\n",
              "Name: customer_id, dtype: int64"
            ]
          },
          "execution_count": 83,
          "metadata": {},
          "output_type": "execute_result"
        }
      ],
      "source": [
        "df_customers.groupby(by=\"customer_state\").customer_id.nunique().sort_values(ascending=False)"
      ]
    },
    {
      "cell_type": "markdown",
      "metadata": {},
      "source": [
        "ORDERS"
      ]
    },
    {
      "cell_type": "markdown",
      "metadata": {},
      "source": [
        "Memeriksa informasi tentang struktur data di dalam DataFrame df_orders. "
      ]
    },
    {
      "cell_type": "code",
      "execution_count": 84,
      "metadata": {},
      "outputs": [
        {
          "name": "stdout",
          "output_type": "stream",
          "text": [
            "<class 'pandas.core.frame.DataFrame'>\n",
            "RangeIndex: 99441 entries, 0 to 99440\n",
            "Data columns (total 8 columns):\n",
            " #   Column                         Non-Null Count  Dtype         \n",
            "---  ------                         --------------  -----         \n",
            " 0   order_id                       99441 non-null  object        \n",
            " 1   customer_id                    99441 non-null  object        \n",
            " 2   order_status                   99441 non-null  object        \n",
            " 3   order_purchase_timestamp       99441 non-null  datetime64[ns]\n",
            " 4   order_approved_at              99441 non-null  datetime64[ns]\n",
            " 5   order_delivered_carrier_date   99441 non-null  datetime64[ns]\n",
            " 6   order_delivered_customer_date  99441 non-null  datetime64[ns]\n",
            " 7   order_estimated_delivery_date  99441 non-null  datetime64[ns]\n",
            "dtypes: datetime64[ns](5), object(3)\n",
            "memory usage: 6.1+ MB\n"
          ]
        }
      ],
      "source": [
        "df_orders.info()"
      ]
    },
    {
      "cell_type": "markdown",
      "metadata": {},
      "source": [
        "Memeriksa statistik deskriptif untuk semua kolom dalam DataFrame df_orders, termasuk kolom-kolom numerik dan non-numerik."
      ]
    },
    {
      "cell_type": "code",
      "execution_count": 85,
      "metadata": {},
      "outputs": [
        {
          "data": {
            "text/html": [
              "<div>\n",
              "<style scoped>\n",
              "    .dataframe tbody tr th:only-of-type {\n",
              "        vertical-align: middle;\n",
              "    }\n",
              "\n",
              "    .dataframe tbody tr th {\n",
              "        vertical-align: top;\n",
              "    }\n",
              "\n",
              "    .dataframe thead th {\n",
              "        text-align: right;\n",
              "    }\n",
              "</style>\n",
              "<table border=\"1\" class=\"dataframe\">\n",
              "  <thead>\n",
              "    <tr style=\"text-align: right;\">\n",
              "      <th></th>\n",
              "      <th>order_id</th>\n",
              "      <th>customer_id</th>\n",
              "      <th>order_status</th>\n",
              "      <th>order_purchase_timestamp</th>\n",
              "      <th>order_approved_at</th>\n",
              "      <th>order_delivered_carrier_date</th>\n",
              "      <th>order_delivered_customer_date</th>\n",
              "      <th>order_estimated_delivery_date</th>\n",
              "    </tr>\n",
              "  </thead>\n",
              "  <tbody>\n",
              "    <tr>\n",
              "      <th>count</th>\n",
              "      <td>99441</td>\n",
              "      <td>99441</td>\n",
              "      <td>99441</td>\n",
              "      <td>99441</td>\n",
              "      <td>99441</td>\n",
              "      <td>99441</td>\n",
              "      <td>99441</td>\n",
              "      <td>99441</td>\n",
              "    </tr>\n",
              "    <tr>\n",
              "      <th>unique</th>\n",
              "      <td>99441</td>\n",
              "      <td>99441</td>\n",
              "      <td>8</td>\n",
              "      <td>NaN</td>\n",
              "      <td>NaN</td>\n",
              "      <td>NaN</td>\n",
              "      <td>NaN</td>\n",
              "      <td>NaN</td>\n",
              "    </tr>\n",
              "    <tr>\n",
              "      <th>top</th>\n",
              "      <td>e481f51cbdc54678b7cc49136f2d6af7</td>\n",
              "      <td>9ef432eb6251297304e76186b10a928d</td>\n",
              "      <td>delivered</td>\n",
              "      <td>NaN</td>\n",
              "      <td>NaN</td>\n",
              "      <td>NaN</td>\n",
              "      <td>NaN</td>\n",
              "      <td>NaN</td>\n",
              "    </tr>\n",
              "    <tr>\n",
              "      <th>freq</th>\n",
              "      <td>1</td>\n",
              "      <td>1</td>\n",
              "      <td>96478</td>\n",
              "      <td>NaN</td>\n",
              "      <td>NaN</td>\n",
              "      <td>NaN</td>\n",
              "      <td>NaN</td>\n",
              "      <td>NaN</td>\n",
              "    </tr>\n",
              "    <tr>\n",
              "      <th>mean</th>\n",
              "      <td>NaN</td>\n",
              "      <td>NaN</td>\n",
              "      <td>NaN</td>\n",
              "      <td>2017-12-31 08:43:12.776581120</td>\n",
              "      <td>2017-12-31 20:48:25.588771072</td>\n",
              "      <td>2018-01-05 20:45:26.040748032</td>\n",
              "      <td>2018-01-15 19:24:50.476392960</td>\n",
              "      <td>2018-01-24 03:08:37.730111232</td>\n",
              "    </tr>\n",
              "    <tr>\n",
              "      <th>min</th>\n",
              "      <td>NaN</td>\n",
              "      <td>NaN</td>\n",
              "      <td>NaN</td>\n",
              "      <td>2016-09-04 21:15:19</td>\n",
              "      <td>2016-09-15 12:16:38</td>\n",
              "      <td>2016-10-08 10:34:01</td>\n",
              "      <td>2016-10-11 13:46:32</td>\n",
              "      <td>2016-09-30 00:00:00</td>\n",
              "    </tr>\n",
              "    <tr>\n",
              "      <th>25%</th>\n",
              "      <td>NaN</td>\n",
              "      <td>NaN</td>\n",
              "      <td>NaN</td>\n",
              "      <td>2017-09-12 14:46:19</td>\n",
              "      <td>2017-09-13 03:35:20</td>\n",
              "      <td>2017-09-19 19:52:27</td>\n",
              "      <td>2017-10-01 16:54:44</td>\n",
              "      <td>2017-10-03 00:00:00</td>\n",
              "    </tr>\n",
              "    <tr>\n",
              "      <th>50%</th>\n",
              "      <td>NaN</td>\n",
              "      <td>NaN</td>\n",
              "      <td>NaN</td>\n",
              "      <td>2018-01-18 23:04:36</td>\n",
              "      <td>2018-01-19 17:42:49</td>\n",
              "      <td>2018-01-29 12:18:58</td>\n",
              "      <td>2018-02-09 20:41:37</td>\n",
              "      <td>2018-02-15 00:00:00</td>\n",
              "    </tr>\n",
              "    <tr>\n",
              "      <th>75%</th>\n",
              "      <td>NaN</td>\n",
              "      <td>NaN</td>\n",
              "      <td>NaN</td>\n",
              "      <td>2018-05-04 15:42:16</td>\n",
              "      <td>2018-05-04 17:10:24</td>\n",
              "      <td>2018-05-07 13:30:00</td>\n",
              "      <td>2018-05-14 13:58:54</td>\n",
              "      <td>2018-05-25 00:00:00</td>\n",
              "    </tr>\n",
              "    <tr>\n",
              "      <th>max</th>\n",
              "      <td>NaN</td>\n",
              "      <td>NaN</td>\n",
              "      <td>NaN</td>\n",
              "      <td>2018-10-17 17:30:18</td>\n",
              "      <td>2018-09-03 17:40:06</td>\n",
              "      <td>2018-09-11 19:48:28</td>\n",
              "      <td>2018-10-17 13:22:46</td>\n",
              "      <td>2018-11-12 00:00:00</td>\n",
              "    </tr>\n",
              "  </tbody>\n",
              "</table>\n",
              "</div>"
            ],
            "text/plain": [
              "                                order_id                       customer_id  \\\n",
              "count                              99441                             99441   \n",
              "unique                             99441                             99441   \n",
              "top     e481f51cbdc54678b7cc49136f2d6af7  9ef432eb6251297304e76186b10a928d   \n",
              "freq                                   1                                 1   \n",
              "mean                                 NaN                               NaN   \n",
              "min                                  NaN                               NaN   \n",
              "25%                                  NaN                               NaN   \n",
              "50%                                  NaN                               NaN   \n",
              "75%                                  NaN                               NaN   \n",
              "max                                  NaN                               NaN   \n",
              "\n",
              "       order_status       order_purchase_timestamp  \\\n",
              "count         99441                          99441   \n",
              "unique            8                            NaN   \n",
              "top       delivered                            NaN   \n",
              "freq          96478                            NaN   \n",
              "mean            NaN  2017-12-31 08:43:12.776581120   \n",
              "min             NaN            2016-09-04 21:15:19   \n",
              "25%             NaN            2017-09-12 14:46:19   \n",
              "50%             NaN            2018-01-18 23:04:36   \n",
              "75%             NaN            2018-05-04 15:42:16   \n",
              "max             NaN            2018-10-17 17:30:18   \n",
              "\n",
              "                    order_approved_at   order_delivered_carrier_date  \\\n",
              "count                           99441                          99441   \n",
              "unique                            NaN                            NaN   \n",
              "top                               NaN                            NaN   \n",
              "freq                              NaN                            NaN   \n",
              "mean    2017-12-31 20:48:25.588771072  2018-01-05 20:45:26.040748032   \n",
              "min               2016-09-15 12:16:38            2016-10-08 10:34:01   \n",
              "25%               2017-09-13 03:35:20            2017-09-19 19:52:27   \n",
              "50%               2018-01-19 17:42:49            2018-01-29 12:18:58   \n",
              "75%               2018-05-04 17:10:24            2018-05-07 13:30:00   \n",
              "max               2018-09-03 17:40:06            2018-09-11 19:48:28   \n",
              "\n",
              "        order_delivered_customer_date  order_estimated_delivery_date  \n",
              "count                           99441                          99441  \n",
              "unique                            NaN                            NaN  \n",
              "top                               NaN                            NaN  \n",
              "freq                              NaN                            NaN  \n",
              "mean    2018-01-15 19:24:50.476392960  2018-01-24 03:08:37.730111232  \n",
              "min               2016-10-11 13:46:32            2016-09-30 00:00:00  \n",
              "25%               2017-10-01 16:54:44            2017-10-03 00:00:00  \n",
              "50%               2018-02-09 20:41:37            2018-02-15 00:00:00  \n",
              "75%               2018-05-14 13:58:54            2018-05-25 00:00:00  \n",
              "max               2018-10-17 13:22:46            2018-11-12 00:00:00  "
            ]
          },
          "execution_count": 85,
          "metadata": {},
          "output_type": "execute_result"
        }
      ],
      "source": [
        "df_orders.describe(include=\"all\")"
      ]
    },
    {
      "cell_type": "markdown",
      "metadata": {},
      "source": [
        "Mengelompokkan data dalam DataFrame df_orders berdasarkan kolom order_status, kemudian menghitung jumlah nilai dalam kolom order_id (atau dapat menggunakan kolom lain) dalam setiap kelompok, yang sesuai dengan status pesanan."
      ]
    },
    {
      "cell_type": "code",
      "execution_count": 86,
      "metadata": {},
      "outputs": [
        {
          "data": {
            "text/plain": [
              "order_status\n",
              "approved           2\n",
              "canceled         625\n",
              "created            5\n",
              "delivered      96478\n",
              "invoiced         314\n",
              "processing       301\n",
              "shipped         1107\n",
              "unavailable      609\n",
              "Name: order_id, dtype: int64"
            ]
          },
          "execution_count": 86,
          "metadata": {},
          "output_type": "execute_result"
        }
      ],
      "source": [
        "df_orders.groupby(by=\"order_status\").order_id.count()"
      ]
    },
    {
      "cell_type": "markdown",
      "metadata": {},
      "source": [
        "Penggabungan (merge) antara dua DataFrame df_customers dan df_orders berdasarkan kolom customer_id."
      ]
    },
    {
      "cell_type": "code",
      "execution_count": 87,
      "metadata": {},
      "outputs": [
        {
          "data": {
            "text/html": [
              "<div>\n",
              "<style scoped>\n",
              "    .dataframe tbody tr th:only-of-type {\n",
              "        vertical-align: middle;\n",
              "    }\n",
              "\n",
              "    .dataframe tbody tr th {\n",
              "        vertical-align: top;\n",
              "    }\n",
              "\n",
              "    .dataframe thead th {\n",
              "        text-align: right;\n",
              "    }\n",
              "</style>\n",
              "<table border=\"1\" class=\"dataframe\">\n",
              "  <thead>\n",
              "    <tr style=\"text-align: right;\">\n",
              "      <th></th>\n",
              "      <th>customer_id</th>\n",
              "      <th>customer_unique_id</th>\n",
              "      <th>customer_zip_code_prefix</th>\n",
              "      <th>customer_city</th>\n",
              "      <th>customer_state</th>\n",
              "      <th>order_id</th>\n",
              "      <th>order_status</th>\n",
              "      <th>order_purchase_timestamp</th>\n",
              "      <th>order_approved_at</th>\n",
              "      <th>order_delivered_carrier_date</th>\n",
              "      <th>order_delivered_customer_date</th>\n",
              "      <th>order_estimated_delivery_date</th>\n",
              "    </tr>\n",
              "  </thead>\n",
              "  <tbody>\n",
              "    <tr>\n",
              "      <th>0</th>\n",
              "      <td>06b8999e2fba1a1fbc88172c00ba8bc7</td>\n",
              "      <td>861eff4711a542e4b93843c6dd7febb0</td>\n",
              "      <td>14409</td>\n",
              "      <td>franca</td>\n",
              "      <td>SP</td>\n",
              "      <td>00e7ee1b050b8499577073aeb2a297a1</td>\n",
              "      <td>delivered</td>\n",
              "      <td>2017-05-16 15:05:35</td>\n",
              "      <td>2017-05-16 15:22:12</td>\n",
              "      <td>2017-05-23 10:47:57</td>\n",
              "      <td>2017-05-25 10:35:35</td>\n",
              "      <td>2017-06-05</td>\n",
              "    </tr>\n",
              "    <tr>\n",
              "      <th>1</th>\n",
              "      <td>18955e83d337fd6b2def6b18a428ac77</td>\n",
              "      <td>290c77bc529b7ac935b93aa66c333dc3</td>\n",
              "      <td>9790</td>\n",
              "      <td>sao bernardo do campo</td>\n",
              "      <td>SP</td>\n",
              "      <td>29150127e6685892b6eab3eec79f59c7</td>\n",
              "      <td>delivered</td>\n",
              "      <td>2018-01-12 20:48:24</td>\n",
              "      <td>2018-01-12 20:58:32</td>\n",
              "      <td>2018-01-15 17:14:59</td>\n",
              "      <td>2018-01-29 12:41:19</td>\n",
              "      <td>2018-02-06</td>\n",
              "    </tr>\n",
              "    <tr>\n",
              "      <th>2</th>\n",
              "      <td>4e7b3e00288586ebd08712fdd0374a03</td>\n",
              "      <td>060e732b5b29e8181a18229c7b0b2b5e</td>\n",
              "      <td>1151</td>\n",
              "      <td>sao paulo</td>\n",
              "      <td>SP</td>\n",
              "      <td>b2059ed67ce144a36e2aa97d2c9e9ad2</td>\n",
              "      <td>delivered</td>\n",
              "      <td>2018-05-19 16:07:45</td>\n",
              "      <td>2018-05-20 16:19:10</td>\n",
              "      <td>2018-06-11 14:31:00</td>\n",
              "      <td>2018-06-14 17:58:51</td>\n",
              "      <td>2018-06-13</td>\n",
              "    </tr>\n",
              "    <tr>\n",
              "      <th>3</th>\n",
              "      <td>b2b6027bc5c5109e529d4dc6358b12c3</td>\n",
              "      <td>259dac757896d24d7702b9acbbff3f3c</td>\n",
              "      <td>8775</td>\n",
              "      <td>mogi das cruzes</td>\n",
              "      <td>SP</td>\n",
              "      <td>951670f92359f4fe4a63112aa7306eba</td>\n",
              "      <td>delivered</td>\n",
              "      <td>2018-03-13 16:06:38</td>\n",
              "      <td>2018-03-13 17:29:19</td>\n",
              "      <td>2018-03-27 23:22:42</td>\n",
              "      <td>2018-03-28 16:04:25</td>\n",
              "      <td>2018-04-10</td>\n",
              "    </tr>\n",
              "    <tr>\n",
              "      <th>4</th>\n",
              "      <td>4f2d8ab171c80ec8364f7c12e35b23ad</td>\n",
              "      <td>345ecd01c38d18a9036ed96c73b8d066</td>\n",
              "      <td>13056</td>\n",
              "      <td>campinas</td>\n",
              "      <td>SP</td>\n",
              "      <td>6b7d50bd145f6fc7f33cebabd7e49d0f</td>\n",
              "      <td>delivered</td>\n",
              "      <td>2018-07-29 09:51:30</td>\n",
              "      <td>2018-07-29 10:10:09</td>\n",
              "      <td>2018-07-30 15:16:00</td>\n",
              "      <td>2018-08-09 20:55:48</td>\n",
              "      <td>2018-08-15</td>\n",
              "    </tr>\n",
              "  </tbody>\n",
              "</table>\n",
              "</div>"
            ],
            "text/plain": [
              "                        customer_id                customer_unique_id  \\\n",
              "0  06b8999e2fba1a1fbc88172c00ba8bc7  861eff4711a542e4b93843c6dd7febb0   \n",
              "1  18955e83d337fd6b2def6b18a428ac77  290c77bc529b7ac935b93aa66c333dc3   \n",
              "2  4e7b3e00288586ebd08712fdd0374a03  060e732b5b29e8181a18229c7b0b2b5e   \n",
              "3  b2b6027bc5c5109e529d4dc6358b12c3  259dac757896d24d7702b9acbbff3f3c   \n",
              "4  4f2d8ab171c80ec8364f7c12e35b23ad  345ecd01c38d18a9036ed96c73b8d066   \n",
              "\n",
              "   customer_zip_code_prefix          customer_city customer_state  \\\n",
              "0                     14409                 franca             SP   \n",
              "1                      9790  sao bernardo do campo             SP   \n",
              "2                      1151              sao paulo             SP   \n",
              "3                      8775        mogi das cruzes             SP   \n",
              "4                     13056               campinas             SP   \n",
              "\n",
              "                           order_id order_status order_purchase_timestamp  \\\n",
              "0  00e7ee1b050b8499577073aeb2a297a1    delivered      2017-05-16 15:05:35   \n",
              "1  29150127e6685892b6eab3eec79f59c7    delivered      2018-01-12 20:48:24   \n",
              "2  b2059ed67ce144a36e2aa97d2c9e9ad2    delivered      2018-05-19 16:07:45   \n",
              "3  951670f92359f4fe4a63112aa7306eba    delivered      2018-03-13 16:06:38   \n",
              "4  6b7d50bd145f6fc7f33cebabd7e49d0f    delivered      2018-07-29 09:51:30   \n",
              "\n",
              "    order_approved_at order_delivered_carrier_date  \\\n",
              "0 2017-05-16 15:22:12          2017-05-23 10:47:57   \n",
              "1 2018-01-12 20:58:32          2018-01-15 17:14:59   \n",
              "2 2018-05-20 16:19:10          2018-06-11 14:31:00   \n",
              "3 2018-03-13 17:29:19          2018-03-27 23:22:42   \n",
              "4 2018-07-29 10:10:09          2018-07-30 15:16:00   \n",
              "\n",
              "  order_delivered_customer_date order_estimated_delivery_date  \n",
              "0           2017-05-25 10:35:35                    2017-06-05  \n",
              "1           2018-01-29 12:41:19                    2018-02-06  \n",
              "2           2018-06-14 17:58:51                    2018-06-13  \n",
              "3           2018-03-28 16:04:25                    2018-04-10  \n",
              "4           2018-08-09 20:55:48                    2018-08-15  "
            ]
          },
          "execution_count": 87,
          "metadata": {},
          "output_type": "execute_result"
        }
      ],
      "source": [
        "new_orders_df = pd.merge(\n",
        "    left=df_customers,\n",
        "    right=df_orders,\n",
        "    how=\"inner\",\n",
        "    left_on=\"customer_id\",\n",
        "    right_on=\"customer_id\"\n",
        ")\n",
        "\n",
        "new_orders_df.head()"
      ]
    },
    {
      "cell_type": "markdown",
      "metadata": {},
      "source": [
        "Mengelompokkan data dalam DataFrame new_orders_df berdasarkan kolom customer_city, kemudian menghitung jumlah pesanan unik (berdasarkan order_id) dalam setiap kelompok (kota), mengurutkan nilai-nilai tersebut secara menurun, mengatur ulang indeks DataFrame, dan akhirnya menampilkan sepuluh baris pertama dari hasil tersebut."
      ]
    },
    {
      "cell_type": "code",
      "execution_count": 88,
      "metadata": {},
      "outputs": [
        {
          "data": {
            "text/html": [
              "<div>\n",
              "<style scoped>\n",
              "    .dataframe tbody tr th:only-of-type {\n",
              "        vertical-align: middle;\n",
              "    }\n",
              "\n",
              "    .dataframe tbody tr th {\n",
              "        vertical-align: top;\n",
              "    }\n",
              "\n",
              "    .dataframe thead th {\n",
              "        text-align: right;\n",
              "    }\n",
              "</style>\n",
              "<table border=\"1\" class=\"dataframe\">\n",
              "  <thead>\n",
              "    <tr style=\"text-align: right;\">\n",
              "      <th></th>\n",
              "      <th>customer_city</th>\n",
              "      <th>order_id</th>\n",
              "    </tr>\n",
              "  </thead>\n",
              "  <tbody>\n",
              "    <tr>\n",
              "      <th>0</th>\n",
              "      <td>sao paulo</td>\n",
              "      <td>15540</td>\n",
              "    </tr>\n",
              "    <tr>\n",
              "      <th>1</th>\n",
              "      <td>rio de janeiro</td>\n",
              "      <td>6882</td>\n",
              "    </tr>\n",
              "    <tr>\n",
              "      <th>2</th>\n",
              "      <td>belo horizonte</td>\n",
              "      <td>2773</td>\n",
              "    </tr>\n",
              "    <tr>\n",
              "      <th>3</th>\n",
              "      <td>brasilia</td>\n",
              "      <td>2131</td>\n",
              "    </tr>\n",
              "    <tr>\n",
              "      <th>4</th>\n",
              "      <td>curitiba</td>\n",
              "      <td>1521</td>\n",
              "    </tr>\n",
              "    <tr>\n",
              "      <th>5</th>\n",
              "      <td>campinas</td>\n",
              "      <td>1444</td>\n",
              "    </tr>\n",
              "    <tr>\n",
              "      <th>6</th>\n",
              "      <td>porto alegre</td>\n",
              "      <td>1379</td>\n",
              "    </tr>\n",
              "    <tr>\n",
              "      <th>7</th>\n",
              "      <td>salvador</td>\n",
              "      <td>1245</td>\n",
              "    </tr>\n",
              "    <tr>\n",
              "      <th>8</th>\n",
              "      <td>guarulhos</td>\n",
              "      <td>1189</td>\n",
              "    </tr>\n",
              "    <tr>\n",
              "      <th>9</th>\n",
              "      <td>sao bernardo do campo</td>\n",
              "      <td>938</td>\n",
              "    </tr>\n",
              "  </tbody>\n",
              "</table>\n",
              "</div>"
            ],
            "text/plain": [
              "           customer_city  order_id\n",
              "0              sao paulo     15540\n",
              "1         rio de janeiro      6882\n",
              "2         belo horizonte      2773\n",
              "3               brasilia      2131\n",
              "4               curitiba      1521\n",
              "5               campinas      1444\n",
              "6           porto alegre      1379\n",
              "7               salvador      1245\n",
              "8              guarulhos      1189\n",
              "9  sao bernardo do campo       938"
            ]
          },
          "execution_count": 88,
          "metadata": {},
          "output_type": "execute_result"
        }
      ],
      "source": [
        "new_orders_df.groupby(by=\"customer_city\").order_id.nunique().sort_values(ascending=False).reset_index().head(10)"
      ]
    },
    {
      "cell_type": "markdown",
      "metadata": {},
      "source": [
        "mengelompokkan data dalam DataFrame new_orders_df berdasarkan kolom customer_state, kemudian menghitung jumlah pesanan unik (berdasarkan order_id) dalam setiap kelompok (negara bagian), mengurutkan nilai-nilai tersebut secara menurun, mengatur ulang indeks DataFrame, dan akhirnya menampilkan sepuluh baris pertama dari hasil tersebut."
      ]
    },
    {
      "cell_type": "code",
      "execution_count": 89,
      "metadata": {},
      "outputs": [
        {
          "data": {
            "text/html": [
              "<div>\n",
              "<style scoped>\n",
              "    .dataframe tbody tr th:only-of-type {\n",
              "        vertical-align: middle;\n",
              "    }\n",
              "\n",
              "    .dataframe tbody tr th {\n",
              "        vertical-align: top;\n",
              "    }\n",
              "\n",
              "    .dataframe thead th {\n",
              "        text-align: right;\n",
              "    }\n",
              "</style>\n",
              "<table border=\"1\" class=\"dataframe\">\n",
              "  <thead>\n",
              "    <tr style=\"text-align: right;\">\n",
              "      <th></th>\n",
              "      <th>customer_state</th>\n",
              "      <th>order_id</th>\n",
              "    </tr>\n",
              "  </thead>\n",
              "  <tbody>\n",
              "    <tr>\n",
              "      <th>0</th>\n",
              "      <td>SP</td>\n",
              "      <td>41746</td>\n",
              "    </tr>\n",
              "    <tr>\n",
              "      <th>1</th>\n",
              "      <td>RJ</td>\n",
              "      <td>12852</td>\n",
              "    </tr>\n",
              "    <tr>\n",
              "      <th>2</th>\n",
              "      <td>MG</td>\n",
              "      <td>11635</td>\n",
              "    </tr>\n",
              "    <tr>\n",
              "      <th>3</th>\n",
              "      <td>RS</td>\n",
              "      <td>5466</td>\n",
              "    </tr>\n",
              "    <tr>\n",
              "      <th>4</th>\n",
              "      <td>PR</td>\n",
              "      <td>5045</td>\n",
              "    </tr>\n",
              "    <tr>\n",
              "      <th>5</th>\n",
              "      <td>SC</td>\n",
              "      <td>3637</td>\n",
              "    </tr>\n",
              "    <tr>\n",
              "      <th>6</th>\n",
              "      <td>BA</td>\n",
              "      <td>3380</td>\n",
              "    </tr>\n",
              "    <tr>\n",
              "      <th>7</th>\n",
              "      <td>DF</td>\n",
              "      <td>2140</td>\n",
              "    </tr>\n",
              "    <tr>\n",
              "      <th>8</th>\n",
              "      <td>ES</td>\n",
              "      <td>2033</td>\n",
              "    </tr>\n",
              "    <tr>\n",
              "      <th>9</th>\n",
              "      <td>GO</td>\n",
              "      <td>2020</td>\n",
              "    </tr>\n",
              "  </tbody>\n",
              "</table>\n",
              "</div>"
            ],
            "text/plain": [
              "  customer_state  order_id\n",
              "0             SP     41746\n",
              "1             RJ     12852\n",
              "2             MG     11635\n",
              "3             RS      5466\n",
              "4             PR      5045\n",
              "5             SC      3637\n",
              "6             BA      3380\n",
              "7             DF      2140\n",
              "8             ES      2033\n",
              "9             GO      2020"
            ]
          },
          "execution_count": 89,
          "metadata": {},
          "output_type": "execute_result"
        }
      ],
      "source": [
        "new_orders_df.groupby(by=\"customer_state\").order_id.nunique().sort_values(ascending=False).reset_index().head(10)"
      ]
    },
    {
      "cell_type": "markdown",
      "metadata": {},
      "source": [
        "Memeriksa statistik deskriptif untuk semua kolom dalam DataFrame df_products, termasuk kolom-kolom numerik dan non-numerik."
      ]
    },
    {
      "cell_type": "code",
      "execution_count": 90,
      "metadata": {},
      "outputs": [
        {
          "data": {
            "text/html": [
              "<div>\n",
              "<style scoped>\n",
              "    .dataframe tbody tr th:only-of-type {\n",
              "        vertical-align: middle;\n",
              "    }\n",
              "\n",
              "    .dataframe tbody tr th {\n",
              "        vertical-align: top;\n",
              "    }\n",
              "\n",
              "    .dataframe thead th {\n",
              "        text-align: right;\n",
              "    }\n",
              "</style>\n",
              "<table border=\"1\" class=\"dataframe\">\n",
              "  <thead>\n",
              "    <tr style=\"text-align: right;\">\n",
              "      <th></th>\n",
              "      <th>product_id</th>\n",
              "      <th>product_category_name</th>\n",
              "      <th>product_name_lenght</th>\n",
              "      <th>product_description_lenght</th>\n",
              "      <th>product_photos_qty</th>\n",
              "      <th>product_weight_g</th>\n",
              "      <th>product_length_cm</th>\n",
              "      <th>product_height_cm</th>\n",
              "      <th>product_width_cm</th>\n",
              "    </tr>\n",
              "  </thead>\n",
              "  <tbody>\n",
              "    <tr>\n",
              "      <th>count</th>\n",
              "      <td>32951</td>\n",
              "      <td>32951</td>\n",
              "      <td>32951.0</td>\n",
              "      <td>32951</td>\n",
              "      <td>32951.0</td>\n",
              "      <td>32951.0</td>\n",
              "      <td>32951.0</td>\n",
              "      <td>32951.0</td>\n",
              "      <td>32951.0</td>\n",
              "    </tr>\n",
              "    <tr>\n",
              "      <th>unique</th>\n",
              "      <td>32951</td>\n",
              "      <td>73</td>\n",
              "      <td>67.0</td>\n",
              "      <td>2961</td>\n",
              "      <td>20.0</td>\n",
              "      <td>2205.0</td>\n",
              "      <td>100.0</td>\n",
              "      <td>103.0</td>\n",
              "      <td>96.0</td>\n",
              "    </tr>\n",
              "    <tr>\n",
              "      <th>top</th>\n",
              "      <td>1e9e8ef04dbcff4541ed26657ea517e5</td>\n",
              "      <td>cama_mesa_banho</td>\n",
              "      <td>60.0</td>\n",
              "      <td>cama_mesa_banho</td>\n",
              "      <td>1.0</td>\n",
              "      <td>200.0</td>\n",
              "      <td>16.0</td>\n",
              "      <td>10.0</td>\n",
              "      <td>11.0</td>\n",
              "    </tr>\n",
              "    <tr>\n",
              "      <th>freq</th>\n",
              "      <td>1</td>\n",
              "      <td>3639</td>\n",
              "      <td>2182.0</td>\n",
              "      <td>610</td>\n",
              "      <td>16489.0</td>\n",
              "      <td>2084.0</td>\n",
              "      <td>5520.0</td>\n",
              "      <td>2548.0</td>\n",
              "      <td>3718.0</td>\n",
              "    </tr>\n",
              "  </tbody>\n",
              "</table>\n",
              "</div>"
            ],
            "text/plain": [
              "                              product_id product_category_name  \\\n",
              "count                              32951                 32951   \n",
              "unique                             32951                    73   \n",
              "top     1e9e8ef04dbcff4541ed26657ea517e5       cama_mesa_banho   \n",
              "freq                                   1                  3639   \n",
              "\n",
              "        product_name_lenght product_description_lenght  product_photos_qty  \\\n",
              "count               32951.0                      32951             32951.0   \n",
              "unique                 67.0                       2961                20.0   \n",
              "top                    60.0            cama_mesa_banho                 1.0   \n",
              "freq                 2182.0                        610             16489.0   \n",
              "\n",
              "        product_weight_g  product_length_cm  product_height_cm  \\\n",
              "count            32951.0            32951.0            32951.0   \n",
              "unique            2205.0              100.0              103.0   \n",
              "top                200.0               16.0               10.0   \n",
              "freq              2084.0             5520.0             2548.0   \n",
              "\n",
              "        product_width_cm  \n",
              "count            32951.0  \n",
              "unique              96.0  \n",
              "top                 11.0  \n",
              "freq              3718.0  "
            ]
          },
          "execution_count": 90,
          "metadata": {},
          "output_type": "execute_result"
        }
      ],
      "source": [
        "df_products.describe(include=\"all\")"
      ]
    },
    {
      "cell_type": "markdown",
      "metadata": {},
      "source": [
        " Memeriksa statistik deskriptif untuk semua kolom, termasuk kolom datetime, dalam DataFrame df_order_items. "
      ]
    },
    {
      "cell_type": "code",
      "execution_count": 91,
      "metadata": {},
      "outputs": [
        {
          "ename": "TypeError",
          "evalue": "describe() got an unexpected keyword argument 'datetime_is_numeric'",
          "output_type": "error",
          "traceback": [
            "\u001b[1;31m---------------------------------------------------------------------------\u001b[0m",
            "\u001b[1;31mTypeError\u001b[0m                                 Traceback (most recent call last)",
            "\u001b[1;32m<ipython-input-91-9f1ed4871762>\u001b[0m in \u001b[0;36m<module>\u001b[1;34m\u001b[0m\n\u001b[1;32m----> 1\u001b[1;33m \u001b[0mdf_order_items\u001b[0m\u001b[1;33m.\u001b[0m\u001b[0mdescribe\u001b[0m\u001b[1;33m(\u001b[0m\u001b[0minclude\u001b[0m\u001b[1;33m=\u001b[0m\u001b[1;34m\"all\"\u001b[0m\u001b[1;33m,\u001b[0m \u001b[0mdatetime_is_numeric\u001b[0m\u001b[1;33m=\u001b[0m\u001b[1;32mTrue\u001b[0m\u001b[1;33m)\u001b[0m\u001b[1;33m\u001b[0m\u001b[1;33m\u001b[0m\u001b[0m\n\u001b[0m",
            "\u001b[1;31mTypeError\u001b[0m: describe() got an unexpected keyword argument 'datetime_is_numeric'"
          ]
        }
      ],
      "source": [
        "df_order_items.describe(include=\"all\", datetime_is_numeric=True)"
      ]
    },
    {
      "cell_type": "markdown",
      "metadata": {},
      "source": [
        "Mengurutkan DataFrame df_order_items berdasarkan nilai kolom price secara menurun (descending order)."
      ]
    },
    {
      "cell_type": "code",
      "execution_count": null,
      "metadata": {},
      "outputs": [
        {
          "data": {
            "text/html": [
              "<div>\n",
              "<style scoped>\n",
              "    .dataframe tbody tr th:only-of-type {\n",
              "        vertical-align: middle;\n",
              "    }\n",
              "\n",
              "    .dataframe tbody tr th {\n",
              "        vertical-align: top;\n",
              "    }\n",
              "\n",
              "    .dataframe thead th {\n",
              "        text-align: right;\n",
              "    }\n",
              "</style>\n",
              "<table border=\"1\" class=\"dataframe\">\n",
              "  <thead>\n",
              "    <tr style=\"text-align: right;\">\n",
              "      <th></th>\n",
              "      <th>order_id</th>\n",
              "      <th>order_item_id</th>\n",
              "      <th>product_id</th>\n",
              "      <th>seller_id</th>\n",
              "      <th>shipping_limit_date</th>\n",
              "      <th>price</th>\n",
              "      <th>freight_value</th>\n",
              "    </tr>\n",
              "  </thead>\n",
              "  <tbody>\n",
              "    <tr>\n",
              "      <th>3556</th>\n",
              "      <td>0812eb902a67711a1cb742b3cdaa65ae</td>\n",
              "      <td>1</td>\n",
              "      <td>489ae2aa008f021502940f251d4cce7f</td>\n",
              "      <td>e3b4998c7a498169dc7bce44e6bb6277</td>\n",
              "      <td>2017-02-16 20:37:36</td>\n",
              "      <td>6735.00</td>\n",
              "      <td>194.31</td>\n",
              "    </tr>\n",
              "    <tr>\n",
              "      <th>112233</th>\n",
              "      <td>fefacc66af859508bf1a7934eab1e97f</td>\n",
              "      <td>1</td>\n",
              "      <td>69c590f7ffc7bf8db97190b6cb6ed62e</td>\n",
              "      <td>80ceebb4ee9b31afb6c6a916a574a1e2</td>\n",
              "      <td>2018-08-02 04:05:13</td>\n",
              "      <td>6729.00</td>\n",
              "      <td>193.21</td>\n",
              "    </tr>\n",
              "    <tr>\n",
              "      <th>107841</th>\n",
              "      <td>f5136e38d1a14a4dbd87dff67da82701</td>\n",
              "      <td>1</td>\n",
              "      <td>1bdf5e6731585cf01aa8169c7028d6ad</td>\n",
              "      <td>ee27a8f15b1dded4d213a468ba4eb391</td>\n",
              "      <td>2017-06-15 02:45:17</td>\n",
              "      <td>6499.00</td>\n",
              "      <td>227.66</td>\n",
              "    </tr>\n",
              "    <tr>\n",
              "      <th>74336</th>\n",
              "      <td>a96610ab360d42a2e5335a3998b4718a</td>\n",
              "      <td>1</td>\n",
              "      <td>a6492cc69376c469ab6f61d8f44de961</td>\n",
              "      <td>59417c56835dd8e2e72f91f809cd4092</td>\n",
              "      <td>2017-04-18 13:25:18</td>\n",
              "      <td>4799.00</td>\n",
              "      <td>151.34</td>\n",
              "    </tr>\n",
              "    <tr>\n",
              "      <th>11249</th>\n",
              "      <td>199af31afc78c699f0dbf71fb178d4d4</td>\n",
              "      <td>1</td>\n",
              "      <td>c3ed642d592594bb648ff4a04cee2747</td>\n",
              "      <td>59417c56835dd8e2e72f91f809cd4092</td>\n",
              "      <td>2017-05-09 15:50:15</td>\n",
              "      <td>4690.00</td>\n",
              "      <td>74.34</td>\n",
              "    </tr>\n",
              "    <tr>\n",
              "      <th>...</th>\n",
              "      <td>...</td>\n",
              "      <td>...</td>\n",
              "      <td>...</td>\n",
              "      <td>...</td>\n",
              "      <td>...</td>\n",
              "      <td>...</td>\n",
              "      <td>...</td>\n",
              "    </tr>\n",
              "    <tr>\n",
              "      <th>57304</th>\n",
              "      <td>8272b63d03f5f79c56e9e4120aec44ef</td>\n",
              "      <td>8</td>\n",
              "      <td>05b515fdc76e888aada3c6d66c201dff</td>\n",
              "      <td>2709af9587499e95e803a6498a5a56e9</td>\n",
              "      <td>2017-07-21 18:25:23</td>\n",
              "      <td>1.20</td>\n",
              "      <td>7.89</td>\n",
              "    </tr>\n",
              "    <tr>\n",
              "      <th>57300</th>\n",
              "      <td>8272b63d03f5f79c56e9e4120aec44ef</td>\n",
              "      <td>4</td>\n",
              "      <td>05b515fdc76e888aada3c6d66c201dff</td>\n",
              "      <td>2709af9587499e95e803a6498a5a56e9</td>\n",
              "      <td>2017-07-21 18:25:23</td>\n",
              "      <td>1.20</td>\n",
              "      <td>7.89</td>\n",
              "    </tr>\n",
              "    <tr>\n",
              "      <th>48625</th>\n",
              "      <td>6e864b3f0ec71031117ad4cf46b7f2a1</td>\n",
              "      <td>1</td>\n",
              "      <td>8a3254bee785a526d548a81a9bc3c9be</td>\n",
              "      <td>96804ea39d96eb908e7c3afdb671bb9e</td>\n",
              "      <td>2018-05-02 20:30:34</td>\n",
              "      <td>0.85</td>\n",
              "      <td>18.23</td>\n",
              "    </tr>\n",
              "    <tr>\n",
              "      <th>27652</th>\n",
              "      <td>3ee6513ae7ea23bdfab5b9ab60bffcb5</td>\n",
              "      <td>1</td>\n",
              "      <td>8a3254bee785a526d548a81a9bc3c9be</td>\n",
              "      <td>96804ea39d96eb908e7c3afdb671bb9e</td>\n",
              "      <td>2018-05-04 03:55:26</td>\n",
              "      <td>0.85</td>\n",
              "      <td>18.23</td>\n",
              "    </tr>\n",
              "    <tr>\n",
              "      <th>87081</th>\n",
              "      <td>c5bdd8ef3c0ec420232e668302179113</td>\n",
              "      <td>2</td>\n",
              "      <td>8a3254bee785a526d548a81a9bc3c9be</td>\n",
              "      <td>96804ea39d96eb908e7c3afdb671bb9e</td>\n",
              "      <td>2018-05-07 02:55:22</td>\n",
              "      <td>0.85</td>\n",
              "      <td>22.30</td>\n",
              "    </tr>\n",
              "  </tbody>\n",
              "</table>\n",
              "<p>112650 rows × 7 columns</p>\n",
              "</div>"
            ],
            "text/plain": [
              "                                order_id  order_item_id  \\\n",
              "3556    0812eb902a67711a1cb742b3cdaa65ae              1   \n",
              "112233  fefacc66af859508bf1a7934eab1e97f              1   \n",
              "107841  f5136e38d1a14a4dbd87dff67da82701              1   \n",
              "74336   a96610ab360d42a2e5335a3998b4718a              1   \n",
              "11249   199af31afc78c699f0dbf71fb178d4d4              1   \n",
              "...                                  ...            ...   \n",
              "57304   8272b63d03f5f79c56e9e4120aec44ef              8   \n",
              "57300   8272b63d03f5f79c56e9e4120aec44ef              4   \n",
              "48625   6e864b3f0ec71031117ad4cf46b7f2a1              1   \n",
              "27652   3ee6513ae7ea23bdfab5b9ab60bffcb5              1   \n",
              "87081   c5bdd8ef3c0ec420232e668302179113              2   \n",
              "\n",
              "                              product_id                         seller_id  \\\n",
              "3556    489ae2aa008f021502940f251d4cce7f  e3b4998c7a498169dc7bce44e6bb6277   \n",
              "112233  69c590f7ffc7bf8db97190b6cb6ed62e  80ceebb4ee9b31afb6c6a916a574a1e2   \n",
              "107841  1bdf5e6731585cf01aa8169c7028d6ad  ee27a8f15b1dded4d213a468ba4eb391   \n",
              "74336   a6492cc69376c469ab6f61d8f44de961  59417c56835dd8e2e72f91f809cd4092   \n",
              "11249   c3ed642d592594bb648ff4a04cee2747  59417c56835dd8e2e72f91f809cd4092   \n",
              "...                                  ...                               ...   \n",
              "57304   05b515fdc76e888aada3c6d66c201dff  2709af9587499e95e803a6498a5a56e9   \n",
              "57300   05b515fdc76e888aada3c6d66c201dff  2709af9587499e95e803a6498a5a56e9   \n",
              "48625   8a3254bee785a526d548a81a9bc3c9be  96804ea39d96eb908e7c3afdb671bb9e   \n",
              "27652   8a3254bee785a526d548a81a9bc3c9be  96804ea39d96eb908e7c3afdb671bb9e   \n",
              "87081   8a3254bee785a526d548a81a9bc3c9be  96804ea39d96eb908e7c3afdb671bb9e   \n",
              "\n",
              "       shipping_limit_date    price  freight_value  \n",
              "3556   2017-02-16 20:37:36  6735.00         194.31  \n",
              "112233 2018-08-02 04:05:13  6729.00         193.21  \n",
              "107841 2017-06-15 02:45:17  6499.00         227.66  \n",
              "74336  2017-04-18 13:25:18  4799.00         151.34  \n",
              "11249  2017-05-09 15:50:15  4690.00          74.34  \n",
              "...                    ...      ...            ...  \n",
              "57304  2017-07-21 18:25:23     1.20           7.89  \n",
              "57300  2017-07-21 18:25:23     1.20           7.89  \n",
              "48625  2018-05-02 20:30:34     0.85          18.23  \n",
              "27652  2018-05-04 03:55:26     0.85          18.23  \n",
              "87081  2018-05-07 02:55:22     0.85          22.30  \n",
              "\n",
              "[112650 rows x 7 columns]"
            ]
          },
          "execution_count": 373,
          "metadata": {},
          "output_type": "execute_result"
        }
      ],
      "source": [
        "df_order_items.sort_values(by=\"price\", ascending=False)"
      ]
    },
    {
      "cell_type": "markdown",
      "metadata": {},
      "source": [
        "Penggabungan (merge) antara dua DataFrame, yaitu df_order_items dan df_products, berdasarkan kolom product_id. "
      ]
    },
    {
      "cell_type": "code",
      "execution_count": null,
      "metadata": {},
      "outputs": [
        {
          "data": {
            "text/html": [
              "<div>\n",
              "<style scoped>\n",
              "    .dataframe tbody tr th:only-of-type {\n",
              "        vertical-align: middle;\n",
              "    }\n",
              "\n",
              "    .dataframe tbody tr th {\n",
              "        vertical-align: top;\n",
              "    }\n",
              "\n",
              "    .dataframe thead th {\n",
              "        text-align: right;\n",
              "    }\n",
              "</style>\n",
              "<table border=\"1\" class=\"dataframe\">\n",
              "  <thead>\n",
              "    <tr style=\"text-align: right;\">\n",
              "      <th></th>\n",
              "      <th>order_id</th>\n",
              "      <th>order_item_id</th>\n",
              "      <th>product_id</th>\n",
              "      <th>seller_id</th>\n",
              "      <th>shipping_limit_date</th>\n",
              "      <th>price</th>\n",
              "      <th>freight_value</th>\n",
              "      <th>product_category_name</th>\n",
              "      <th>product_name_lenght</th>\n",
              "      <th>product_description_lenght</th>\n",
              "      <th>product_photos_qty</th>\n",
              "      <th>product_weight_g</th>\n",
              "      <th>product_length_cm</th>\n",
              "      <th>product_height_cm</th>\n",
              "      <th>product_width_cm</th>\n",
              "    </tr>\n",
              "  </thead>\n",
              "  <tbody>\n",
              "    <tr>\n",
              "      <th>0</th>\n",
              "      <td>00010242fe8c5a6d1ba2dd792cb16214</td>\n",
              "      <td>1</td>\n",
              "      <td>4244733e06e7ecb4970a6e2683c13e61</td>\n",
              "      <td>48436dade18ac8b2bce089ec2a041202</td>\n",
              "      <td>2017-09-19 09:45:35</td>\n",
              "      <td>58.90</td>\n",
              "      <td>13.29</td>\n",
              "      <td>cool_stuff</td>\n",
              "      <td>58.0</td>\n",
              "      <td>598.0</td>\n",
              "      <td>4.0</td>\n",
              "      <td>650.0</td>\n",
              "      <td>28.0</td>\n",
              "      <td>9.0</td>\n",
              "      <td>14.0</td>\n",
              "    </tr>\n",
              "    <tr>\n",
              "      <th>1</th>\n",
              "      <td>00018f77f2f0320c557190d7a144bdd3</td>\n",
              "      <td>1</td>\n",
              "      <td>e5f2d52b802189ee658865ca93d83a8f</td>\n",
              "      <td>dd7ddc04e1b6c2c614352b383efe2d36</td>\n",
              "      <td>2017-05-03 11:05:13</td>\n",
              "      <td>239.90</td>\n",
              "      <td>19.93</td>\n",
              "      <td>pet_shop</td>\n",
              "      <td>56.0</td>\n",
              "      <td>239.0</td>\n",
              "      <td>2.0</td>\n",
              "      <td>30000.0</td>\n",
              "      <td>50.0</td>\n",
              "      <td>30.0</td>\n",
              "      <td>40.0</td>\n",
              "    </tr>\n",
              "    <tr>\n",
              "      <th>2</th>\n",
              "      <td>000229ec398224ef6ca0657da4fc703e</td>\n",
              "      <td>1</td>\n",
              "      <td>c777355d18b72b67abbeef9df44fd0fd</td>\n",
              "      <td>5b51032eddd242adc84c38acab88f23d</td>\n",
              "      <td>2018-01-18 14:48:30</td>\n",
              "      <td>199.00</td>\n",
              "      <td>17.87</td>\n",
              "      <td>moveis_decoracao</td>\n",
              "      <td>59.0</td>\n",
              "      <td>695.0</td>\n",
              "      <td>2.0</td>\n",
              "      <td>3050.0</td>\n",
              "      <td>33.0</td>\n",
              "      <td>13.0</td>\n",
              "      <td>33.0</td>\n",
              "    </tr>\n",
              "    <tr>\n",
              "      <th>3</th>\n",
              "      <td>00024acbcdf0a6daa1e931b038114c75</td>\n",
              "      <td>1</td>\n",
              "      <td>7634da152a4610f1595efa32f14722fc</td>\n",
              "      <td>9d7a1d34a5052409006425275ba1c2b4</td>\n",
              "      <td>2018-08-15 10:10:18</td>\n",
              "      <td>12.99</td>\n",
              "      <td>12.79</td>\n",
              "      <td>perfumaria</td>\n",
              "      <td>42.0</td>\n",
              "      <td>480.0</td>\n",
              "      <td>1.0</td>\n",
              "      <td>200.0</td>\n",
              "      <td>16.0</td>\n",
              "      <td>10.0</td>\n",
              "      <td>15.0</td>\n",
              "    </tr>\n",
              "    <tr>\n",
              "      <th>4</th>\n",
              "      <td>00042b26cf59d7ce69dfabb4e55b4fd9</td>\n",
              "      <td>1</td>\n",
              "      <td>ac6c3623068f30de03045865e4e10089</td>\n",
              "      <td>df560393f3a51e74553ab94004ba5c87</td>\n",
              "      <td>2017-02-13 13:57:51</td>\n",
              "      <td>199.90</td>\n",
              "      <td>18.14</td>\n",
              "      <td>ferramentas_jardim</td>\n",
              "      <td>59.0</td>\n",
              "      <td>409.0</td>\n",
              "      <td>1.0</td>\n",
              "      <td>3750.0</td>\n",
              "      <td>35.0</td>\n",
              "      <td>40.0</td>\n",
              "      <td>30.0</td>\n",
              "    </tr>\n",
              "  </tbody>\n",
              "</table>\n",
              "</div>"
            ],
            "text/plain": [
              "                           order_id  order_item_id  \\\n",
              "0  00010242fe8c5a6d1ba2dd792cb16214              1   \n",
              "1  00018f77f2f0320c557190d7a144bdd3              1   \n",
              "2  000229ec398224ef6ca0657da4fc703e              1   \n",
              "3  00024acbcdf0a6daa1e931b038114c75              1   \n",
              "4  00042b26cf59d7ce69dfabb4e55b4fd9              1   \n",
              "\n",
              "                         product_id                         seller_id  \\\n",
              "0  4244733e06e7ecb4970a6e2683c13e61  48436dade18ac8b2bce089ec2a041202   \n",
              "1  e5f2d52b802189ee658865ca93d83a8f  dd7ddc04e1b6c2c614352b383efe2d36   \n",
              "2  c777355d18b72b67abbeef9df44fd0fd  5b51032eddd242adc84c38acab88f23d   \n",
              "3  7634da152a4610f1595efa32f14722fc  9d7a1d34a5052409006425275ba1c2b4   \n",
              "4  ac6c3623068f30de03045865e4e10089  df560393f3a51e74553ab94004ba5c87   \n",
              "\n",
              "  shipping_limit_date   price  freight_value product_category_name  \\\n",
              "0 2017-09-19 09:45:35   58.90          13.29            cool_stuff   \n",
              "1 2017-05-03 11:05:13  239.90          19.93              pet_shop   \n",
              "2 2018-01-18 14:48:30  199.00          17.87      moveis_decoracao   \n",
              "3 2018-08-15 10:10:18   12.99          12.79            perfumaria   \n",
              "4 2017-02-13 13:57:51  199.90          18.14    ferramentas_jardim   \n",
              "\n",
              "  product_name_lenght product_description_lenght product_photos_qty  \\\n",
              "0                58.0                      598.0                4.0   \n",
              "1                56.0                      239.0                2.0   \n",
              "2                59.0                      695.0                2.0   \n",
              "3                42.0                      480.0                1.0   \n",
              "4                59.0                      409.0                1.0   \n",
              "\n",
              "  product_weight_g product_length_cm product_height_cm product_width_cm  \n",
              "0            650.0              28.0               9.0             14.0  \n",
              "1          30000.0              50.0              30.0             40.0  \n",
              "2           3050.0              33.0              13.0             33.0  \n",
              "3            200.0              16.0              10.0             15.0  \n",
              "4           3750.0              35.0              40.0             30.0  "
            ]
          },
          "execution_count": 374,
          "metadata": {},
          "output_type": "execute_result"
        }
      ],
      "source": [
        "items_product_df = pd.merge(\n",
        "    left=df_order_items,\n",
        "    right=df_products,\n",
        "    how=\"left\",\n",
        "    left_on=\"product_id\",\n",
        "    right_on=\"product_id\"\n",
        ")\n",
        "items_product_df.head()"
      ]
    },
    {
      "cell_type": "markdown",
      "metadata": {},
      "source": [
        "Mengelompokkan data dalam DataFrame items_product_df berdasarkan kolom product_category_name"
      ]
    },
    {
      "cell_type": "code",
      "execution_count": null,
      "metadata": {},
      "outputs": [
        {
          "data": {
            "text/html": [
              "<div>\n",
              "<style scoped>\n",
              "    .dataframe tbody tr th:only-of-type {\n",
              "        vertical-align: middle;\n",
              "    }\n",
              "\n",
              "    .dataframe tbody tr th {\n",
              "        vertical-align: top;\n",
              "    }\n",
              "\n",
              "    .dataframe thead th {\n",
              "        text-align: right;\n",
              "    }\n",
              "</style>\n",
              "<table border=\"1\" class=\"dataframe\">\n",
              "  <thead>\n",
              "    <tr style=\"text-align: right;\">\n",
              "      <th></th>\n",
              "      <th>product_id</th>\n",
              "      <th>freight_value</th>\n",
              "      <th>price</th>\n",
              "    </tr>\n",
              "    <tr>\n",
              "      <th>product_category_name</th>\n",
              "      <th></th>\n",
              "      <th></th>\n",
              "      <th></th>\n",
              "    </tr>\n",
              "  </thead>\n",
              "  <tbody>\n",
              "    <tr>\n",
              "      <th>agro_industria_e_comercio</th>\n",
              "      <td>74</td>\n",
              "      <td>5843.60</td>\n",
              "      <td>72530.47</td>\n",
              "    </tr>\n",
              "    <tr>\n",
              "      <th>alimentos</th>\n",
              "      <td>82</td>\n",
              "      <td>7271.03</td>\n",
              "      <td>29393.41</td>\n",
              "    </tr>\n",
              "    <tr>\n",
              "      <th>alimentos_bebidas</th>\n",
              "      <td>104</td>\n",
              "      <td>4507.99</td>\n",
              "      <td>15179.48</td>\n",
              "    </tr>\n",
              "    <tr>\n",
              "      <th>artes</th>\n",
              "      <td>55</td>\n",
              "      <td>4045.17</td>\n",
              "      <td>24202.64</td>\n",
              "    </tr>\n",
              "    <tr>\n",
              "      <th>artes_e_artesanato</th>\n",
              "      <td>19</td>\n",
              "      <td>370.13</td>\n",
              "      <td>1814.01</td>\n",
              "    </tr>\n",
              "    <tr>\n",
              "      <th>...</th>\n",
              "      <td>...</td>\n",
              "      <td>...</td>\n",
              "      <td>...</td>\n",
              "    </tr>\n",
              "    <tr>\n",
              "      <th>sinalizacao_e_seguranca</th>\n",
              "      <td>93</td>\n",
              "      <td>6507.82</td>\n",
              "      <td>21509.23</td>\n",
              "    </tr>\n",
              "    <tr>\n",
              "      <th>tablets_impressao_imagem</th>\n",
              "      <td>9</td>\n",
              "      <td>1226.20</td>\n",
              "      <td>7528.41</td>\n",
              "    </tr>\n",
              "    <tr>\n",
              "      <th>telefonia</th>\n",
              "      <td>1134</td>\n",
              "      <td>71215.79</td>\n",
              "      <td>323667.53</td>\n",
              "    </tr>\n",
              "    <tr>\n",
              "      <th>telefonia_fixa</th>\n",
              "      <td>116</td>\n",
              "      <td>4637.81</td>\n",
              "      <td>59583.00</td>\n",
              "    </tr>\n",
              "    <tr>\n",
              "      <th>utilidades_domesticas</th>\n",
              "      <td>2335</td>\n",
              "      <td>146149.11</td>\n",
              "      <td>632248.66</td>\n",
              "    </tr>\n",
              "  </tbody>\n",
              "</table>\n",
              "<p>73 rows × 3 columns</p>\n",
              "</div>"
            ],
            "text/plain": [
              "                           product_id  freight_value      price\n",
              "product_category_name                                          \n",
              "agro_industria_e_comercio          74        5843.60   72530.47\n",
              "alimentos                          82        7271.03   29393.41\n",
              "alimentos_bebidas                 104        4507.99   15179.48\n",
              "artes                              55        4045.17   24202.64\n",
              "artes_e_artesanato                 19         370.13    1814.01\n",
              "...                               ...            ...        ...\n",
              "sinalizacao_e_seguranca            93        6507.82   21509.23\n",
              "tablets_impressao_imagem            9        1226.20    7528.41\n",
              "telefonia                        1134       71215.79  323667.53\n",
              "telefonia_fixa                    116        4637.81   59583.00\n",
              "utilidades_domesticas            2335      146149.11  632248.66\n",
              "\n",
              "[73 rows x 3 columns]"
            ]
          },
          "execution_count": 375,
          "metadata": {},
          "output_type": "execute_result"
        }
      ],
      "source": [
        "items_product_df.groupby(by=\"product_category_name\").agg({\n",
        "    \"product_id\": \"nunique\",\n",
        "    \"freight_value\": \"sum\",\n",
        "    \"price\": \"sum\"\n",
        "})"
      ]
    },
    {
      "cell_type": "markdown",
      "metadata": {},
      "source": [
        "Penggabungan (merge) antara dua DataFrame, yaitu items_product_df dan new_orders_df, berdasarkan kolom order_id. "
      ]
    },
    {
      "cell_type": "code",
      "execution_count": null,
      "metadata": {},
      "outputs": [
        {
          "data": {
            "text/html": [
              "<div>\n",
              "<style scoped>\n",
              "    .dataframe tbody tr th:only-of-type {\n",
              "        vertical-align: middle;\n",
              "    }\n",
              "\n",
              "    .dataframe tbody tr th {\n",
              "        vertical-align: top;\n",
              "    }\n",
              "\n",
              "    .dataframe thead th {\n",
              "        text-align: right;\n",
              "    }\n",
              "</style>\n",
              "<table border=\"1\" class=\"dataframe\">\n",
              "  <thead>\n",
              "    <tr style=\"text-align: right;\">\n",
              "      <th></th>\n",
              "      <th>order_id</th>\n",
              "      <th>order_item_id</th>\n",
              "      <th>product_id</th>\n",
              "      <th>seller_id</th>\n",
              "      <th>shipping_limit_date</th>\n",
              "      <th>price</th>\n",
              "      <th>freight_value</th>\n",
              "      <th>product_category_name</th>\n",
              "      <th>product_name_lenght</th>\n",
              "      <th>product_description_lenght</th>\n",
              "      <th>...</th>\n",
              "      <th>customer_unique_id</th>\n",
              "      <th>customer_zip_code_prefix</th>\n",
              "      <th>customer_city</th>\n",
              "      <th>customer_state</th>\n",
              "      <th>order_status</th>\n",
              "      <th>order_purchase_timestamp</th>\n",
              "      <th>order_approved_at</th>\n",
              "      <th>order_delivered_carrier_date</th>\n",
              "      <th>order_delivered_customer_date</th>\n",
              "      <th>order_estimated_delivery_date</th>\n",
              "    </tr>\n",
              "  </thead>\n",
              "  <tbody>\n",
              "    <tr>\n",
              "      <th>0</th>\n",
              "      <td>00010242fe8c5a6d1ba2dd792cb16214</td>\n",
              "      <td>1</td>\n",
              "      <td>4244733e06e7ecb4970a6e2683c13e61</td>\n",
              "      <td>48436dade18ac8b2bce089ec2a041202</td>\n",
              "      <td>2017-09-19 09:45:35</td>\n",
              "      <td>58.90</td>\n",
              "      <td>13.29</td>\n",
              "      <td>cool_stuff</td>\n",
              "      <td>58.0</td>\n",
              "      <td>598.0</td>\n",
              "      <td>...</td>\n",
              "      <td>871766c5855e863f6eccc05f988b23cb</td>\n",
              "      <td>28013</td>\n",
              "      <td>campos dos goytacazes</td>\n",
              "      <td>RJ</td>\n",
              "      <td>delivered</td>\n",
              "      <td>2017-09-13 08:59:02</td>\n",
              "      <td>2017-09-13 09:45:35</td>\n",
              "      <td>2017-09-19 18:34:16</td>\n",
              "      <td>2017-09-20 23:43:48</td>\n",
              "      <td>2017-09-29</td>\n",
              "    </tr>\n",
              "    <tr>\n",
              "      <th>1</th>\n",
              "      <td>00018f77f2f0320c557190d7a144bdd3</td>\n",
              "      <td>1</td>\n",
              "      <td>e5f2d52b802189ee658865ca93d83a8f</td>\n",
              "      <td>dd7ddc04e1b6c2c614352b383efe2d36</td>\n",
              "      <td>2017-05-03 11:05:13</td>\n",
              "      <td>239.90</td>\n",
              "      <td>19.93</td>\n",
              "      <td>pet_shop</td>\n",
              "      <td>56.0</td>\n",
              "      <td>239.0</td>\n",
              "      <td>...</td>\n",
              "      <td>eb28e67c4c0b83846050ddfb8a35d051</td>\n",
              "      <td>15775</td>\n",
              "      <td>santa fe do sul</td>\n",
              "      <td>SP</td>\n",
              "      <td>delivered</td>\n",
              "      <td>2017-04-26 10:53:06</td>\n",
              "      <td>2017-04-26 11:05:13</td>\n",
              "      <td>2017-05-04 14:35:00</td>\n",
              "      <td>2017-05-12 16:04:24</td>\n",
              "      <td>2017-05-15</td>\n",
              "    </tr>\n",
              "    <tr>\n",
              "      <th>2</th>\n",
              "      <td>000229ec398224ef6ca0657da4fc703e</td>\n",
              "      <td>1</td>\n",
              "      <td>c777355d18b72b67abbeef9df44fd0fd</td>\n",
              "      <td>5b51032eddd242adc84c38acab88f23d</td>\n",
              "      <td>2018-01-18 14:48:30</td>\n",
              "      <td>199.00</td>\n",
              "      <td>17.87</td>\n",
              "      <td>moveis_decoracao</td>\n",
              "      <td>59.0</td>\n",
              "      <td>695.0</td>\n",
              "      <td>...</td>\n",
              "      <td>3818d81c6709e39d06b2738a8d3a2474</td>\n",
              "      <td>35661</td>\n",
              "      <td>para de minas</td>\n",
              "      <td>MG</td>\n",
              "      <td>delivered</td>\n",
              "      <td>2018-01-14 14:33:31</td>\n",
              "      <td>2018-01-14 14:48:30</td>\n",
              "      <td>2018-01-16 12:36:48</td>\n",
              "      <td>2018-01-22 13:19:16</td>\n",
              "      <td>2018-02-05</td>\n",
              "    </tr>\n",
              "    <tr>\n",
              "      <th>3</th>\n",
              "      <td>00024acbcdf0a6daa1e931b038114c75</td>\n",
              "      <td>1</td>\n",
              "      <td>7634da152a4610f1595efa32f14722fc</td>\n",
              "      <td>9d7a1d34a5052409006425275ba1c2b4</td>\n",
              "      <td>2018-08-15 10:10:18</td>\n",
              "      <td>12.99</td>\n",
              "      <td>12.79</td>\n",
              "      <td>perfumaria</td>\n",
              "      <td>42.0</td>\n",
              "      <td>480.0</td>\n",
              "      <td>...</td>\n",
              "      <td>af861d436cfc08b2c2ddefd0ba074622</td>\n",
              "      <td>12952</td>\n",
              "      <td>atibaia</td>\n",
              "      <td>SP</td>\n",
              "      <td>delivered</td>\n",
              "      <td>2018-08-08 10:00:35</td>\n",
              "      <td>2018-08-08 10:10:18</td>\n",
              "      <td>2018-08-10 13:28:00</td>\n",
              "      <td>2018-08-14 13:32:39</td>\n",
              "      <td>2018-08-20</td>\n",
              "    </tr>\n",
              "    <tr>\n",
              "      <th>4</th>\n",
              "      <td>00042b26cf59d7ce69dfabb4e55b4fd9</td>\n",
              "      <td>1</td>\n",
              "      <td>ac6c3623068f30de03045865e4e10089</td>\n",
              "      <td>df560393f3a51e74553ab94004ba5c87</td>\n",
              "      <td>2017-02-13 13:57:51</td>\n",
              "      <td>199.90</td>\n",
              "      <td>18.14</td>\n",
              "      <td>ferramentas_jardim</td>\n",
              "      <td>59.0</td>\n",
              "      <td>409.0</td>\n",
              "      <td>...</td>\n",
              "      <td>64b576fb70d441e8f1b2d7d446e483c5</td>\n",
              "      <td>13226</td>\n",
              "      <td>varzea paulista</td>\n",
              "      <td>SP</td>\n",
              "      <td>delivered</td>\n",
              "      <td>2017-02-04 13:57:51</td>\n",
              "      <td>2017-02-04 14:10:13</td>\n",
              "      <td>2017-02-16 09:46:09</td>\n",
              "      <td>2017-03-01 16:42:31</td>\n",
              "      <td>2017-03-17</td>\n",
              "    </tr>\n",
              "  </tbody>\n",
              "</table>\n",
              "<p>5 rows × 26 columns</p>\n",
              "</div>"
            ],
            "text/plain": [
              "                           order_id  order_item_id  \\\n",
              "0  00010242fe8c5a6d1ba2dd792cb16214              1   \n",
              "1  00018f77f2f0320c557190d7a144bdd3              1   \n",
              "2  000229ec398224ef6ca0657da4fc703e              1   \n",
              "3  00024acbcdf0a6daa1e931b038114c75              1   \n",
              "4  00042b26cf59d7ce69dfabb4e55b4fd9              1   \n",
              "\n",
              "                         product_id                         seller_id  \\\n",
              "0  4244733e06e7ecb4970a6e2683c13e61  48436dade18ac8b2bce089ec2a041202   \n",
              "1  e5f2d52b802189ee658865ca93d83a8f  dd7ddc04e1b6c2c614352b383efe2d36   \n",
              "2  c777355d18b72b67abbeef9df44fd0fd  5b51032eddd242adc84c38acab88f23d   \n",
              "3  7634da152a4610f1595efa32f14722fc  9d7a1d34a5052409006425275ba1c2b4   \n",
              "4  ac6c3623068f30de03045865e4e10089  df560393f3a51e74553ab94004ba5c87   \n",
              "\n",
              "  shipping_limit_date   price  freight_value product_category_name  \\\n",
              "0 2017-09-19 09:45:35   58.90          13.29            cool_stuff   \n",
              "1 2017-05-03 11:05:13  239.90          19.93              pet_shop   \n",
              "2 2018-01-18 14:48:30  199.00          17.87      moveis_decoracao   \n",
              "3 2018-08-15 10:10:18   12.99          12.79            perfumaria   \n",
              "4 2017-02-13 13:57:51  199.90          18.14    ferramentas_jardim   \n",
              "\n",
              "  product_name_lenght product_description_lenght  ...  \\\n",
              "0                58.0                      598.0  ...   \n",
              "1                56.0                      239.0  ...   \n",
              "2                59.0                      695.0  ...   \n",
              "3                42.0                      480.0  ...   \n",
              "4                59.0                      409.0  ...   \n",
              "\n",
              "                 customer_unique_id customer_zip_code_prefix  \\\n",
              "0  871766c5855e863f6eccc05f988b23cb                    28013   \n",
              "1  eb28e67c4c0b83846050ddfb8a35d051                    15775   \n",
              "2  3818d81c6709e39d06b2738a8d3a2474                    35661   \n",
              "3  af861d436cfc08b2c2ddefd0ba074622                    12952   \n",
              "4  64b576fb70d441e8f1b2d7d446e483c5                    13226   \n",
              "\n",
              "           customer_city customer_state order_status order_purchase_timestamp  \\\n",
              "0  campos dos goytacazes             RJ    delivered      2017-09-13 08:59:02   \n",
              "1        santa fe do sul             SP    delivered      2017-04-26 10:53:06   \n",
              "2          para de minas             MG    delivered      2018-01-14 14:33:31   \n",
              "3                atibaia             SP    delivered      2018-08-08 10:00:35   \n",
              "4        varzea paulista             SP    delivered      2017-02-04 13:57:51   \n",
              "\n",
              "    order_approved_at  order_delivered_carrier_date  \\\n",
              "0 2017-09-13 09:45:35           2017-09-19 18:34:16   \n",
              "1 2017-04-26 11:05:13           2017-05-04 14:35:00   \n",
              "2 2018-01-14 14:48:30           2018-01-16 12:36:48   \n",
              "3 2018-08-08 10:10:18           2018-08-10 13:28:00   \n",
              "4 2017-02-04 14:10:13           2017-02-16 09:46:09   \n",
              "\n",
              "  order_delivered_customer_date order_estimated_delivery_date  \n",
              "0           2017-09-20 23:43:48                    2017-09-29  \n",
              "1           2017-05-12 16:04:24                    2017-05-15  \n",
              "2           2018-01-22 13:19:16                    2018-02-05  \n",
              "3           2018-08-14 13:32:39                    2018-08-20  \n",
              "4           2017-03-01 16:42:31                    2017-03-17  \n",
              "\n",
              "[5 rows x 26 columns]"
            ]
          },
          "execution_count": 376,
          "metadata": {},
          "output_type": "execute_result"
        }
      ],
      "source": [
        "all_df = pd.merge(\n",
        "    left=items_product_df,\n",
        "    right=new_orders_df,\n",
        "    how=\"left\",\n",
        "    left_on=\"order_id\",\n",
        "    right_on=\"order_id\"\n",
        ")\n",
        "all_df.head()"
      ]
    },
    {
      "cell_type": "markdown",
      "metadata": {},
      "source": [
        "Mengelompokkan data dalam DataFrame all_df berdasarkan dua kolom, yaitu customer_state dan product_category_name, kemudian menerapkan fungsi agregasi pada kolom-kolom tertentu di setiap kelompok."
      ]
    },
    {
      "cell_type": "code",
      "execution_count": null,
      "metadata": {},
      "outputs": [
        {
          "data": {
            "text/html": [
              "<div>\n",
              "<style scoped>\n",
              "    .dataframe tbody tr th:only-of-type {\n",
              "        vertical-align: middle;\n",
              "    }\n",
              "\n",
              "    .dataframe tbody tr th {\n",
              "        vertical-align: top;\n",
              "    }\n",
              "\n",
              "    .dataframe thead th {\n",
              "        text-align: right;\n",
              "    }\n",
              "</style>\n",
              "<table border=\"1\" class=\"dataframe\">\n",
              "  <thead>\n",
              "    <tr style=\"text-align: right;\">\n",
              "      <th></th>\n",
              "      <th></th>\n",
              "      <th>freight_value</th>\n",
              "      <th>price</th>\n",
              "    </tr>\n",
              "    <tr>\n",
              "      <th>customer_state</th>\n",
              "      <th>product_category_name</th>\n",
              "      <th></th>\n",
              "      <th></th>\n",
              "    </tr>\n",
              "  </thead>\n",
              "  <tbody>\n",
              "    <tr>\n",
              "      <th rowspan=\"5\" valign=\"top\">AC</th>\n",
              "      <th>artigos_de_natal</th>\n",
              "      <td>60.95</td>\n",
              "      <td>69.90</td>\n",
              "    </tr>\n",
              "    <tr>\n",
              "      <th>automotivo</th>\n",
              "      <td>120.93</td>\n",
              "      <td>540.98</td>\n",
              "    </tr>\n",
              "    <tr>\n",
              "      <th>bebes</th>\n",
              "      <td>174.13</td>\n",
              "      <td>697.84</td>\n",
              "    </tr>\n",
              "    <tr>\n",
              "      <th>beleza_saude</th>\n",
              "      <td>268.42</td>\n",
              "      <td>1386.58</td>\n",
              "    </tr>\n",
              "    <tr>\n",
              "      <th>brinquedos</th>\n",
              "      <td>83.26</td>\n",
              "      <td>234.79</td>\n",
              "    </tr>\n",
              "    <tr>\n",
              "      <th>...</th>\n",
              "      <th>...</th>\n",
              "      <td>...</td>\n",
              "      <td>...</td>\n",
              "    </tr>\n",
              "    <tr>\n",
              "      <th rowspan=\"5\" valign=\"top\">TO</th>\n",
              "      <th>portateis_casa_forno_e_cafe</th>\n",
              "      <td>95.44</td>\n",
              "      <td>1999.00</td>\n",
              "    </tr>\n",
              "    <tr>\n",
              "      <th>relogios_presentes</th>\n",
              "      <td>950.02</td>\n",
              "      <td>5446.89</td>\n",
              "    </tr>\n",
              "    <tr>\n",
              "      <th>telefonia</th>\n",
              "      <td>627.34</td>\n",
              "      <td>1268.12</td>\n",
              "    </tr>\n",
              "    <tr>\n",
              "      <th>telefonia_fixa</th>\n",
              "      <td>53.58</td>\n",
              "      <td>1390.99</td>\n",
              "    </tr>\n",
              "    <tr>\n",
              "      <th>utilidades_domesticas</th>\n",
              "      <td>484.74</td>\n",
              "      <td>1275.75</td>\n",
              "    </tr>\n",
              "  </tbody>\n",
              "</table>\n",
              "<p>1368 rows × 2 columns</p>\n",
              "</div>"
            ],
            "text/plain": [
              "                                            freight_value    price\n",
              "customer_state product_category_name                              \n",
              "AC             artigos_de_natal                     60.95    69.90\n",
              "               automotivo                          120.93   540.98\n",
              "               bebes                               174.13   697.84\n",
              "               beleza_saude                        268.42  1386.58\n",
              "               brinquedos                           83.26   234.79\n",
              "...                                                   ...      ...\n",
              "TO             portateis_casa_forno_e_cafe          95.44  1999.00\n",
              "               relogios_presentes                  950.02  5446.89\n",
              "               telefonia                           627.34  1268.12\n",
              "               telefonia_fixa                       53.58  1390.99\n",
              "               utilidades_domesticas               484.74  1275.75\n",
              "\n",
              "[1368 rows x 2 columns]"
            ]
          },
          "execution_count": 377,
          "metadata": {},
          "output_type": "execute_result"
        }
      ],
      "source": [
        "all_df.groupby(by=[\"customer_state\", \"product_category_name\"]).agg({\n",
        "    \"freight_value\": \"sum\",\n",
        "    \"price\": \"sum\"\n",
        "})"
      ]
    },
    {
      "cell_type": "markdown",
      "metadata": {},
      "source": [
        "Mengelompokkan data dalam DataFrame all_df berdasarkan dua kolom, yaitu customer_city dan product_category_name, kemudian menerapkan fungsi agregasi pada kolom-kolom tertentu di setiap kelompok."
      ]
    },
    {
      "cell_type": "code",
      "execution_count": null,
      "metadata": {},
      "outputs": [
        {
          "data": {
            "text/html": [
              "<div>\n",
              "<style scoped>\n",
              "    .dataframe tbody tr th:only-of-type {\n",
              "        vertical-align: middle;\n",
              "    }\n",
              "\n",
              "    .dataframe tbody tr th {\n",
              "        vertical-align: top;\n",
              "    }\n",
              "\n",
              "    .dataframe thead th {\n",
              "        text-align: right;\n",
              "    }\n",
              "</style>\n",
              "<table border=\"1\" class=\"dataframe\">\n",
              "  <thead>\n",
              "    <tr style=\"text-align: right;\">\n",
              "      <th></th>\n",
              "      <th></th>\n",
              "      <th>freight_value</th>\n",
              "      <th>price</th>\n",
              "    </tr>\n",
              "    <tr>\n",
              "      <th>customer_city</th>\n",
              "      <th>product_category_name</th>\n",
              "      <th></th>\n",
              "      <th></th>\n",
              "    </tr>\n",
              "  </thead>\n",
              "  <tbody>\n",
              "    <tr>\n",
              "      <th rowspan=\"3\" valign=\"top\">abadia dos dourados</th>\n",
              "      <th>cool_stuff</th>\n",
              "      <td>20.63</td>\n",
              "      <td>199.00</td>\n",
              "    </tr>\n",
              "    <tr>\n",
              "      <th>esporte_lazer</th>\n",
              "      <td>15.59</td>\n",
              "      <td>120.00</td>\n",
              "    </tr>\n",
              "    <tr>\n",
              "      <th>livros_interesse_geral</th>\n",
              "      <td>18.38</td>\n",
              "      <td>39.90</td>\n",
              "    </tr>\n",
              "    <tr>\n",
              "      <th>abadiania</th>\n",
              "      <th>eletroportateis</th>\n",
              "      <td>75.53</td>\n",
              "      <td>949.99</td>\n",
              "    </tr>\n",
              "    <tr>\n",
              "      <th>abaete</th>\n",
              "      <th>bebes</th>\n",
              "      <td>17.70</td>\n",
              "      <td>65.00</td>\n",
              "    </tr>\n",
              "    <tr>\n",
              "      <th>...</th>\n",
              "      <th>...</th>\n",
              "      <td>...</td>\n",
              "      <td>...</td>\n",
              "    </tr>\n",
              "    <tr>\n",
              "      <th rowspan=\"3\" valign=\"top\">ze doca</th>\n",
              "      <th>esporte_lazer</th>\n",
              "      <td>38.60</td>\n",
              "      <td>149.90</td>\n",
              "    </tr>\n",
              "    <tr>\n",
              "      <th>ferramentas_jardim</th>\n",
              "      <td>26.61</td>\n",
              "      <td>39.90</td>\n",
              "    </tr>\n",
              "    <tr>\n",
              "      <th>instrumentos_musicais</th>\n",
              "      <td>49.04</td>\n",
              "      <td>359.00</td>\n",
              "    </tr>\n",
              "    <tr>\n",
              "      <th rowspan=\"2\" valign=\"top\">zortea</th>\n",
              "      <th>cama_mesa_banho</th>\n",
              "      <td>16.79</td>\n",
              "      <td>29.90</td>\n",
              "    </tr>\n",
              "    <tr>\n",
              "      <th>informatica_acessorios</th>\n",
              "      <td>20.98</td>\n",
              "      <td>69.90</td>\n",
              "    </tr>\n",
              "  </tbody>\n",
              "</table>\n",
              "<p>25350 rows × 2 columns</p>\n",
              "</div>"
            ],
            "text/plain": [
              "                                            freight_value   price\n",
              "customer_city       product_category_name                        \n",
              "abadia dos dourados cool_stuff                      20.63  199.00\n",
              "                    esporte_lazer                   15.59  120.00\n",
              "                    livros_interesse_geral          18.38   39.90\n",
              "abadiania           eletroportateis                 75.53  949.99\n",
              "abaete              bebes                           17.70   65.00\n",
              "...                                                   ...     ...\n",
              "ze doca             esporte_lazer                   38.60  149.90\n",
              "                    ferramentas_jardim              26.61   39.90\n",
              "                    instrumentos_musicais           49.04  359.00\n",
              "zortea              cama_mesa_banho                 16.79   29.90\n",
              "                    informatica_acessorios          20.98   69.90\n",
              "\n",
              "[25350 rows x 2 columns]"
            ]
          },
          "execution_count": 378,
          "metadata": {},
          "output_type": "execute_result"
        }
      ],
      "source": [
        "all_df.groupby(by=[\"customer_city\", \"product_category_name\"]).agg({\n",
        "    \"freight_value\": \"sum\",\n",
        "    \"price\": \"sum\"\n",
        "})"
      ]
    },
    {
      "cell_type": "markdown",
      "metadata": {
        "id": "zsyZjqak8DC2"
      },
      "source": [
        "## Visualization & Explanatory Analysis"
      ]
    },
    {
      "cell_type": "markdown",
      "metadata": {
        "id": "HZxOiQ6n8DC2"
      },
      "source": [
        "### Pertanyaan 1: Berapa lama waktu rata-rata pengiriman pesanan dari waktu pembelian hingga waktu pengiriman akhir kepada pelanggan? "
      ]
    },
    {
      "cell_type": "markdown",
      "metadata": {},
      "source": [
        "matplotlib untuk membuat histogram yang menampilkan distribusi waktu pengiriman pesanan (delivery time) dalam DataFrame df_orders."
      ]
    },
    {
      "cell_type": "code",
      "execution_count": null,
      "metadata": {
        "id": "1swJUdAD8DC2"
      },
      "outputs": [
        {
          "data": {
            "image/png": "[encoded data removed]",
            "text/plain": [
              "<Figure size 720x576 with 1 Axes>"
            ]
          },
          "metadata": {
            "needs_background": "light"
          },
          "output_type": "display_data"
        }
      ],
      "source": [
        "import matplotlib.pyplot as plt\n",
        "\n",
        "\n",
        "df_orders['delivery_time'] = (df_orders['order_delivered_customer_date'] - df_orders['order_purchase_timestamp']).dt.days\n",
        "\n",
        "\n",
        "average_delivery_time = df_orders['delivery_time'].mean()\n",
        "\n",
        "\n",
        "plt.figure(figsize=(10, 8))\n",
        "plt.hist(df_orders['delivery_time'], bins=50, color='green', edgecolor='black', alpha=0.7)\n",
        "plt.axvline(average_delivery_time, color='red', linestyle='dashed', linewidth=1, label=f'Average: {average_delivery_time:.2f} days')\n",
        "plt.xlabel('Delivery Time (days)')\n",
        "plt.ylabel('Frequency')\n",
        "plt.title('Order Delivery Time Distribution')\n",
        "plt.legend()\n",
        "plt.show()\n"
      ]
    },
    {
      "cell_type": "markdown",
      "metadata": {
        "id": "DgHI7CiU8DC2"
      },
      "source": [
        "### Pertanyaan 2: Apakah ada pola waktu tertentu di mana pesanan cenderung lebih banyak dilakukan?"
      ]
    },
    {
      "cell_type": "markdown",
      "metadata": {},
      "source": [
        "Membuat histogram untuk mendistribusikan waktu pembelian pesanan dalam DataFrame all_df. Namun, ada kesalahan dalam menggunakan plt.hist() karena ini berfungsi dengan data numerik, sementara all_df['order_purchase_timestamp'] adalah data waktu (datetime)."
      ]
    },
    {
      "cell_type": "code",
      "execution_count": null,
      "metadata": {
        "id": "Go0lCsvO8DC2"
      },
      "outputs": [
        {
          "data": {
            "image/png": "[encoded data removed]",
            "text/plain": [
              "<Figure size 720x432 with 1 Axes>"
            ]
          },
          "metadata": {
            "needs_background": "light"
          },
          "output_type": "display_data"
        }
      ],
      "source": [
        "import matplotlib.pyplot as plt\n",
        "\n",
        "\n",
        "all_df['order_purchase_timestamp'] = pd.to_datetime(all_df['order_purchase_timestamp'])\n",
        "\n",
        "\n",
        "plt.figure(figsize=(10, 6))\n",
        "plt.hist(all_df['order_purchase_timestamp'], bins=30, color='pink', edgecolor='black')\n",
        "plt.title('Distribution of Order Purchase Times')\n",
        "plt.xlabel('Time')\n",
        "plt.ylabel('Frequency')\n",
        "plt.show()\n"
      ]
    },
    {
      "cell_type": "markdown",
      "metadata": {
        "id": "_WeHlCeX8DC2"
      },
      "source": [
        "## Conclusion"
      ]
    },
    {
      "cell_type": "markdown",
      "metadata": {
        "id": "ZTcyR48Y8DC2"
      },
      "source": [
        "- Conclution pertanyaan 1: Visualisasi data seperti histogram, boxplot, dan line plot berhasil digunakan untuk menganalisis distribusi waktu pengiriman kepada customer dari awal costumer melakukan pemesanan. Dengan waktu rata-rata pengiriman pesanan selama 14,98 hari atau 15 hari jika digenapkan. waktu pengiriman ini cenderung normal. \n",
        "- Conclution pertanyaan 2: Dengan menganalisis kolom \"order_purchase_timestamp\" pertanyaan 2 ini berhasil dijawab. Dari hasil visualisasi data yang telah dilakukan, dapat dilihat pola atau tren waktu kapan pesanan cenderung lebih banyak dilakukan. Yakni pada rentang waktu \"2018-01-14 14:33:31\", sementara pesanan cenderung menurun pada waktu lain."
      ]
    },
    {
      "cell_type": "code",
      "execution_count": null,
      "metadata": {},
      "outputs": [],
      "source": [
        "all_df.to_csv(\"all_data.csv\", index=False)"
      ]
    }
  ],
  "metadata": {
    "colab": {
      "provenance": []
    },
    "kernelspec": {
      "display_name": "Python 3",
      "language": "python",
      "name": "python3"
    },
    "language_info": {
      "codemirror_mode": {
        "name": "ipython",
        "version": 3
      },
      "file_extension": ".py",
      "mimetype": "text/x-python",
      "name": "python",
      "nbconvert_exporter": "python",
      "pygments_lexer": "ipython3",
      "version": "3.8.8"
    },
    "orig_nbformat": 4,
    "vscode": {
      "interpreter": {
        "hash": "972b3bf27e332e87b5379f2791f6ef9dfc79c71018c370b0d7423235e20fe4d7"
      }
    }
  },
  "nbformat": 4,
  "nbformat_minor": 0
}
